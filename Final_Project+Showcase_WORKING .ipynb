{
 "cells": [
  {
   "cell_type": "markdown",
   "metadata": {},
   "source": [
    "# Rocking with visualized music!"
   ]
  },
  {
   "cell_type": "markdown",
   "metadata": {},
   "source": [
    "# Project Overview"
   ]
  },
  {
   "cell_type": "markdown",
   "metadata": {},
   "source": [
    "\n",
    "![alt text](https://media.giphy.com/media/13oOmve7w8HETC/giphy.gif)"
   ]
  },
  {
   "cell_type": "markdown",
   "metadata": {},
   "source": [
    "Spotify is the largest music streaming platform.With more than 35 million songs and 170 million monthly active users. In this project, we will extract several types of data from Spotify and analyze the data to find insights that will give us a better understanding of our listening habits and music industry.  \n",
    "\n",
    "Specifically, we will be extracting data from Spotify Web API, making a useful analytical set out of it, performing statistical analysis and creating visulizations. \n",
    "\n",
    "Our research questions are as below:\n",
    "\n",
    "1) What are the audio features of popular songs? \n",
    "\n",
    "2) Does popular songs share any similar characteristics?\n",
    "\n",
    "3) How diverse are the popular songs of different eras? \n",
    "\n",
    "Expected Findings:\n",
    "\n",
    "1) Popular songs were less diversed.\n",
    "\n",
    "2) Popular songs have a common high value for certain specific parameter(example: energy, danceability).\n",
    "\n",
    "In the next part of the project, we develop a recommendation system which will take a single track and return top 5 similar tracks from the database. These recommendations are based on the audio features of tracks which will be discussed in detail below! "
   ]
  },
  {
   "cell_type": "markdown",
   "metadata": {},
   "source": [
    "## Let's get started!\n",
    "![alt text](https://media.giphy.com/media/nWg4h2IK6jYRO/giphy.gif \"Logo Title Text 1\")"
   ]
  },
  {
   "cell_type": "markdown",
   "metadata": {},
   "source": [
    "# 1. Data Extraction, Cleaning and Wrangling"
   ]
  },
  {
   "cell_type": "markdown",
   "metadata": {},
   "source": [
    "## Data acquisition\n",
    "\n",
    "On the basis of the analysis we intend to perform and research questions we intend to answer, we realised we would require data  consisting of **Top performing songs of 2019 along with their properties of each track.**\n",
    "\n",
    "Now because we were unable to find such dataset and since we believe data extraction and cleaning, however boring, is an important aspect of any datascience project, we decided to extract reuired data through Spotify API, explore different endpoints available, extract it, wrangle it from raw format into a dataframe format and clean it."
   ]
  },
  {
   "cell_type": "markdown",
   "metadata": {},
   "source": [
    "In order to get access to Spotify data, we had to create a developer account, generated client id and secret code, explored various endpoints at [Spotify Web API Console](https://developer.spotify.com/console/)\n",
    "APIs work on response/request basis. API communication is usually done through JSON format. \n",
    "However, here we found a library called [Spotipy](https://spotipy.readthedocs.io/) that helps us easily access spotify web API."
   ]
  },
  {
   "cell_type": "markdown",
   "metadata": {},
   "source": [
    "### 1.1 Data Extraction - 1 (Top Tracks of 2019)\n",
    "![alt text](https://media.giphy.com/media/4FQMuOKR6zQRO/giphy.gif \"Logo Title Text 1\")"
   ]
  },
  {
   "cell_type": "code",
   "execution_count": 2,
   "metadata": {},
   "outputs": [],
   "source": [
    "#Setting up Spotify API end point\n",
    "import spotipy\n",
    "\n",
    "from spotipy.oauth2 import SpotifyClientCredentials \n",
    "\n",
    "cid =\"841e0a8ce6a84bab829e9b438660e75f\" \n",
    "secret = \"f3019d467db34e3786e9204bc9d0eeb3\" \n",
    "client_credentials_manager = SpotifyClientCredentials(client_id=cid, client_secret=secret) \n",
    "\n",
    "sp = spotipy.Spotify(client_credentials_manager=client_credentials_manager)"
   ]
  },
  {
   "cell_type": "markdown",
   "metadata": {},
   "source": [
    "Here is the list of various enpoints through which we can extract data from Spotify Web API:\n",
    "![alt text](https://github.com/tgel0/tgel0.github.io/blob/master/images/Spotifyendpoints.PNG?raw=true)"
   ]
  },
  {
   "cell_type": "markdown",
   "metadata": {},
   "source": [
    "We would be using \"search\" method provided by Spotipy Library to extract the tracks of 2019. A sample query and output is as shown below."
   ]
  },
  {
   "cell_type": "code",
   "execution_count": 3,
   "metadata": {},
   "outputs": [
    {
     "name": "stdout",
     "output_type": "stream",
     "text": [
      "{'tracks': {'href': 'https://api.spotify.com/v1/search?query=year%3A2019&type=track&offset=0&limit=10', 'items': [{'album': {'album_type': 'album', 'artists': [{'external_urls': {'spotify': 'https://open.spotify.com/artist/246dkjvS1zLTtiykXe5h60'}, 'href': 'https://api.spotify.com/v1/artists/246dkjvS1zLTtiykXe5h60', 'id': '246dkjvS1zLTtiykXe5h60', 'name': 'Post Malone', 'type': 'artist', 'uri': 'spotify:artist:246dkjvS1zLTtiykXe5h60'}], 'available_markets': ['AD', 'AE', 'AR', 'AT', 'AU', 'BE', 'BG', 'BH', 'BO', 'BR', 'CA', 'CH', 'CL', 'CO', 'CR', 'CY', 'CZ', 'DE', 'DK', 'DO', 'DZ', 'EC', 'EE', 'EG', 'ES', 'FI', 'FR', 'GB', 'GR', 'GT', 'HK', 'HN', 'HU', 'ID', 'IE', 'IL', 'IN', 'IS', 'IT', 'JO', 'JP', 'KW', 'LB', 'LI', 'LT', 'LU', 'LV', 'MA', 'MC', 'MT', 'MX', 'MY', 'NI', 'NL', 'NO', 'NZ', 'OM', 'PA', 'PE', 'PH', 'PL', 'PS', 'PT', 'PY', 'QA', 'RO', 'SA', 'SE', 'SG', 'SK', 'SV', 'TH', 'TN', 'TR', 'TW', 'US', 'UY', 'VN', 'ZA'], 'external_urls': {'spotify': 'https://open.spotify.com/album/4g1ZRSobMefqF6nelkgibi'}, 'href': 'https://api.spotify.com/v1/albums/4g1ZRSobMefqF6nelkgibi', 'id': '4g1ZRSobMefqF6nelkgibi', 'images': [{'height': 640, 'url': 'https://i.scdn.co/image/94105e271865c28853bfb7b44b38353a2fea45d6', 'width': 640}, {'height': 300, 'url': 'https://i.scdn.co/image/e2e8a627df64b4824c9f2bb8e69e44f975200abb', 'width': 300}, {'height': 64, 'url': 'https://i.scdn.co/image/a7f2cc3d9b653ac116a3666cc3aaf01880aab8bd', 'width': 64}], 'name': \"Hollywood's Bleeding\", 'release_date': '2019-09-06', 'release_date_precision': 'day', 'total_tracks': 17, 'type': 'album', 'uri': 'spotify:album:4g1ZRSobMefqF6nelkgibi'}, 'artists': [{'external_urls': {'spotify': 'https://open.spotify.com/artist/246dkjvS1zLTtiykXe5h60'}, 'href': 'https://api.spotify.com/v1/artists/246dkjvS1zLTtiykXe5h60', 'id': '246dkjvS1zLTtiykXe5h60', 'name': 'Post Malone', 'type': 'artist', 'uri': 'spotify:artist:246dkjvS1zLTtiykXe5h60'}], 'available_markets': ['AD', 'AE', 'AR', 'AT', 'AU', 'BE', 'BG', 'BH', 'BO', 'BR', 'CA', 'CH', 'CL', 'CO', 'CR', 'CY', 'CZ', 'DE', 'DK', 'DO', 'DZ', 'EC', 'EE', 'EG', 'ES', 'FI', 'FR', 'GB', 'GR', 'GT', 'HK', 'HN', 'HU', 'ID', 'IE', 'IL', 'IN', 'IS', 'IT', 'JO', 'JP', 'KW', 'LB', 'LI', 'LT', 'LU', 'LV', 'MA', 'MC', 'MT', 'MX', 'MY', 'NI', 'NL', 'NO', 'NZ', 'OM', 'PA', 'PE', 'PH', 'PL', 'PS', 'PT', 'PY', 'QA', 'RO', 'SA', 'SE', 'SG', 'SK', 'SV', 'TH', 'TN', 'TR', 'TW', 'US', 'UY', 'VN', 'ZA'], 'disc_number': 1, 'duration_ms': 215280, 'explicit': False, 'external_ids': {'isrc': 'USUM71915699'}, 'external_urls': {'spotify': 'https://open.spotify.com/track/21jGcNKet2qwijlDFuPiPb'}, 'href': 'https://api.spotify.com/v1/tracks/21jGcNKet2qwijlDFuPiPb', 'id': '21jGcNKet2qwijlDFuPiPb', 'is_local': False, 'name': 'Circles', 'popularity': 99, 'preview_url': None, 'track_number': 6, 'type': 'track', 'uri': 'spotify:track:21jGcNKet2qwijlDFuPiPb'}, {'album': {'album_type': 'single', 'artists': [{'external_urls': {'spotify': 'https://open.spotify.com/artist/0Y5tJX1MQlPlqiwlOH1tJY'}, 'href': 'https://api.spotify.com/v1/artists/0Y5tJX1MQlPlqiwlOH1tJY', 'id': '0Y5tJX1MQlPlqiwlOH1tJY', 'name': 'Travis Scott', 'type': 'artist', 'uri': 'spotify:artist:0Y5tJX1MQlPlqiwlOH1tJY'}], 'available_markets': ['AD', 'AE', 'AR', 'AT', 'AU', 'BE', 'BG', 'BH', 'BO', 'BR', 'CA', 'CH', 'CL', 'CO', 'CR', 'CY', 'CZ', 'DE', 'DK', 'DO', 'DZ', 'EC', 'EE', 'EG', 'ES', 'FI', 'FR', 'GB', 'GR', 'GT', 'HK', 'HN', 'HU', 'ID', 'IE', 'IL', 'IN', 'IS', 'IT', 'JO', 'JP', 'KW', 'LB', 'LI', 'LT', 'LU', 'LV', 'MA', 'MC', 'MT', 'MX', 'MY', 'NI', 'NL', 'NO', 'NZ', 'OM', 'PA', 'PE', 'PH', 'PL', 'PS', 'PT', 'PY', 'QA', 'RO', 'SA', 'SE', 'SG', 'SK', 'SV', 'TH', 'TN', 'TR', 'TW', 'US', 'UY', 'VN', 'ZA'], 'external_urls': {'spotify': 'https://open.spotify.com/album/2uDTi1PlpSpvAv7IRAoAEU'}, 'href': 'https://api.spotify.com/v1/albums/2uDTi1PlpSpvAv7IRAoAEU', 'id': '2uDTi1PlpSpvAv7IRAoAEU', 'images': [{'height': 640, 'url': 'https://i.scdn.co/image/e68dee85d7a026eadc5ae76e71efea0767479036', 'width': 640}, {'height': 300, 'url': 'https://i.scdn.co/image/18781a6fd88e7ad199ef9c61ce01ee78c7fcd956', 'width': 300}, {'height': 64, 'url': 'https://i.scdn.co/image/3a6a1ddb77d5886cd77768734bdca254aba7cf8b', 'width': 64}], 'name': 'HIGHEST IN THE ROOM', 'release_date': '2019-10-04', 'release_date_precision': 'day', 'total_tracks': 1, 'type': 'album', 'uri': 'spotify:album:2uDTi1PlpSpvAv7IRAoAEU'}, 'artists': [{'external_urls': {'spotify': 'https://open.spotify.com/artist/0Y5tJX1MQlPlqiwlOH1tJY'}, 'href': 'https://api.spotify.com/v1/artists/0Y5tJX1MQlPlqiwlOH1tJY', 'id': '0Y5tJX1MQlPlqiwlOH1tJY', 'name': 'Travis Scott', 'type': 'artist', 'uri': 'spotify:artist:0Y5tJX1MQlPlqiwlOH1tJY'}], 'available_markets': ['AD', 'AE', 'AR', 'AT', 'AU', 'BE', 'BG', 'BH', 'BO', 'BR', 'CA', 'CH', 'CL', 'CO', 'CR', 'CY', 'CZ', 'DE', 'DK', 'DO', 'DZ', 'EC', 'EE', 'EG', 'ES', 'FI', 'FR', 'GB', 'GR', 'GT', 'HK', 'HN', 'HU', 'ID', 'IE', 'IL', 'IN', 'IS', 'IT', 'JO', 'JP', 'KW', 'LB', 'LI', 'LT', 'LU', 'LV', 'MA', 'MC', 'MT', 'MX', 'MY', 'NI', 'NL', 'NO', 'NZ', 'OM', 'PA', 'PE', 'PH', 'PL', 'PS', 'PT', 'PY', 'QA', 'RO', 'SA', 'SE', 'SG', 'SK', 'SV', 'TH', 'TN', 'TR', 'TW', 'US', 'UY', 'VN', 'ZA'], 'disc_number': 1, 'duration_ms': 175720, 'explicit': True, 'external_ids': {'isrc': 'USSM11904276'}, 'external_urls': {'spotify': 'https://open.spotify.com/track/3eekarcy7kvN4yt5ZFzltW'}, 'href': 'https://api.spotify.com/v1/tracks/3eekarcy7kvN4yt5ZFzltW', 'id': '3eekarcy7kvN4yt5ZFzltW', 'is_local': False, 'name': 'HIGHEST IN THE ROOM', 'popularity': 97, 'preview_url': 'https://p.scdn.co/mp3-preview/d9b90990dab9d8376d05c5d4a6b7ac3e99c03763?cid=841e0a8ce6a84bab829e9b438660e75f', 'track_number': 1, 'type': 'track', 'uri': 'spotify:track:3eekarcy7kvN4yt5ZFzltW'}, {'album': {'album_type': 'single', 'artists': [{'external_urls': {'spotify': 'https://open.spotify.com/artist/4MCBfE4596Uoi2O4DtmEMz'}, 'href': 'https://api.spotify.com/v1/artists/4MCBfE4596Uoi2O4DtmEMz', 'id': '4MCBfE4596Uoi2O4DtmEMz', 'name': 'Juice WRLD', 'type': 'artist', 'uri': 'spotify:artist:4MCBfE4596Uoi2O4DtmEMz'}, {'external_urls': {'spotify': 'https://open.spotify.com/artist/7wlFDEWiM5OoIAt8RSli8b'}, 'href': 'https://api.spotify.com/v1/artists/7wlFDEWiM5OoIAt8RSli8b', 'id': '7wlFDEWiM5OoIAt8RSli8b', 'name': 'YoungBoy Never Broke Again', 'type': 'artist', 'uri': 'spotify:artist:7wlFDEWiM5OoIAt8RSli8b'}], 'available_markets': ['AD', 'AE', 'AR', 'AT', 'AU', 'BE', 'BG', 'BH', 'BO', 'BR', 'CA', 'CH', 'CL', 'CO', 'CR', 'CY', 'CZ', 'DE', 'DK', 'DO', 'DZ', 'EC', 'EE', 'EG', 'ES', 'FI', 'FR', 'GB', 'GR', 'GT', 'HK', 'HN', 'HU', 'ID', 'IE', 'IL', 'IN', 'IS', 'IT', 'JO', 'JP', 'KW', 'LB', 'LI', 'LT', 'LU', 'LV', 'MA', 'MC', 'MT', 'MX', 'MY', 'NI', 'NL', 'NO', 'NZ', 'OM', 'PA', 'PE', 'PH', 'PL', 'PS', 'PT', 'PY', 'QA', 'RO', 'SA', 'SE', 'SG', 'SK', 'SV', 'TH', 'TN', 'TR', 'TW', 'US', 'UY', 'VN', 'ZA'], 'external_urls': {'spotify': 'https://open.spotify.com/album/3t6Z2qoBVCS4NHNI25XECH'}, 'href': 'https://api.spotify.com/v1/albums/3t6Z2qoBVCS4NHNI25XECH', 'id': '3t6Z2qoBVCS4NHNI25XECH', 'images': [{'height': 640, 'url': 'https://i.scdn.co/image/eac06170b857a4331cfe4cffc2bd6260d93f549d', 'width': 640}, {'height': 300, 'url': 'https://i.scdn.co/image/e44b8cabfba55cefd5490332cb557a9137ab8b23', 'width': 300}, {'height': 64, 'url': 'https://i.scdn.co/image/5ed52bb180bccf1adc98c1766ec13ca8d82325c5', 'width': 64}], 'name': 'Bandit (with YoungBoy Never Broke Again)', 'release_date': '2019-10-04', 'release_date_precision': 'day', 'total_tracks': 1, 'type': 'album', 'uri': 'spotify:album:3t6Z2qoBVCS4NHNI25XECH'}, 'artists': [{'external_urls': {'spotify': 'https://open.spotify.com/artist/4MCBfE4596Uoi2O4DtmEMz'}, 'href': 'https://api.spotify.com/v1/artists/4MCBfE4596Uoi2O4DtmEMz', 'id': '4MCBfE4596Uoi2O4DtmEMz', 'name': 'Juice WRLD', 'type': 'artist', 'uri': 'spotify:artist:4MCBfE4596Uoi2O4DtmEMz'}, {'external_urls': {'spotify': 'https://open.spotify.com/artist/7wlFDEWiM5OoIAt8RSli8b'}, 'href': 'https://api.spotify.com/v1/artists/7wlFDEWiM5OoIAt8RSli8b', 'id': '7wlFDEWiM5OoIAt8RSli8b', 'name': 'YoungBoy Never Broke Again', 'type': 'artist', 'uri': 'spotify:artist:7wlFDEWiM5OoIAt8RSli8b'}], 'available_markets': ['AD', 'AE', 'AR', 'AT', 'AU', 'BE', 'BG', 'BH', 'BO', 'BR', 'CA', 'CH', 'CL', 'CO', 'CR', 'CY', 'CZ', 'DE', 'DK', 'DO', 'DZ', 'EC', 'EE', 'EG', 'ES', 'FI', 'FR', 'GB', 'GR', 'GT', 'HK', 'HN', 'HU', 'ID', 'IE', 'IL', 'IN', 'IS', 'IT', 'JO', 'JP', 'KW', 'LB', 'LI', 'LT', 'LU', 'LV', 'MA', 'MC', 'MT', 'MX', 'MY', 'NI', 'NL', 'NO', 'NZ', 'OM', 'PA', 'PE', 'PH', 'PL', 'PS', 'PT', 'PY', 'QA', 'RO', 'SA', 'SE', 'SG', 'SK', 'SV', 'TH', 'TN', 'TR', 'TW', 'US', 'UY', 'VN', 'ZA'], 'disc_number': 1, 'duration_ms': 189322, 'explicit': True, 'external_ids': {'isrc': 'USUG11903492'}, 'external_urls': {'spotify': 'https://open.spotify.com/track/6Gg1gjgKi2AK4e0qzsR7sd'}, 'href': 'https://api.spotify.com/v1/tracks/6Gg1gjgKi2AK4e0qzsR7sd', 'id': '6Gg1gjgKi2AK4e0qzsR7sd', 'is_local': False, 'name': 'Bandit (with YoungBoy Never Broke Again)', 'popularity': 94, 'preview_url': None, 'track_number': 1, 'type': 'track', 'uri': 'spotify:track:6Gg1gjgKi2AK4e0qzsR7sd'}, {'album': {'album_type': 'single', 'artists': [{'external_urls': {'spotify': 'https://open.spotify.com/artist/0vRvGUQVUjytro0xpb26bs'}, 'href': 'https://api.spotify.com/v1/artists/0vRvGUQVUjytro0xpb26bs', 'id': '0vRvGUQVUjytro0xpb26bs', 'name': 'Arizona Zervas', 'type': 'artist', 'uri': 'spotify:artist:0vRvGUQVUjytro0xpb26bs'}], 'available_markets': ['AD', 'AE', 'AR', 'AT', 'AU', 'BE', 'BG', 'BH', 'BO', 'BR', 'CA', 'CH', 'CL', 'CO', 'CR', 'CY', 'CZ', 'DE', 'DK', 'DO', 'DZ', 'EC', 'EE', 'EG', 'ES', 'FI', 'FR', 'GB', 'GR', 'GT', 'HK', 'HN', 'HU', 'ID', 'IE', 'IL', 'IN', 'IS', 'IT', 'JO', 'JP', 'KW', 'LB', 'LI', 'LT', 'LU', 'LV', 'MA', 'MC', 'MT', 'MX', 'MY', 'NI', 'NL', 'NO', 'NZ', 'OM', 'PA', 'PE', 'PH', 'PL', 'PS', 'PT', 'PY', 'QA', 'RO', 'SA', 'SE', 'SG', 'SK', 'SV', 'TH', 'TN', 'TR', 'TW', 'US', 'UY', 'VN', 'ZA'], 'external_urls': {'spotify': 'https://open.spotify.com/album/6HJDrXs0hpebaRFKA1sF90'}, 'href': 'https://api.spotify.com/v1/albums/6HJDrXs0hpebaRFKA1sF90', 'id': '6HJDrXs0hpebaRFKA1sF90', 'images': [{'height': 640, 'url': 'https://i.scdn.co/image/98c8c7645dc7d24aca2ca8733b426b19101ca545', 'width': 640}, {'height': 300, 'url': 'https://i.scdn.co/image/23a121e32cbea981b971c4ae3d678dd0f28fd189', 'width': 300}, {'height': 64, 'url': 'https://i.scdn.co/image/4a9c3f26b9a25f7e36ef993e586711c385228bbc', 'width': 64}], 'name': 'ROXANNE', 'release_date': '2019-10-10', 'release_date_precision': 'day', 'total_tracks': 1, 'type': 'album', 'uri': 'spotify:album:6HJDrXs0hpebaRFKA1sF90'}, 'artists': [{'external_urls': {'spotify': 'https://open.spotify.com/artist/0vRvGUQVUjytro0xpb26bs'}, 'href': 'https://api.spotify.com/v1/artists/0vRvGUQVUjytro0xpb26bs', 'id': '0vRvGUQVUjytro0xpb26bs', 'name': 'Arizona Zervas', 'type': 'artist', 'uri': 'spotify:artist:0vRvGUQVUjytro0xpb26bs'}], 'available_markets': ['AD', 'AE', 'AR', 'AT', 'AU', 'BE', 'BG', 'BH', 'BO', 'BR', 'CA', 'CH', 'CL', 'CO', 'CR', 'CY', 'CZ', 'DE', 'DK', 'DO', 'DZ', 'EC', 'EE', 'EG', 'ES', 'FI', 'FR', 'GB', 'GR', 'GT', 'HK', 'HN', 'HU', 'ID', 'IE', 'IL', 'IN', 'IS', 'IT', 'JO', 'JP', 'KW', 'LB', 'LI', 'LT', 'LU', 'LV', 'MA', 'MC', 'MT', 'MX', 'MY', 'NI', 'NL', 'NO', 'NZ', 'OM', 'PA', 'PE', 'PH', 'PL', 'PS', 'PT', 'PY', 'QA', 'RO', 'SA', 'SE', 'SG', 'SK', 'SV', 'TH', 'TN', 'TR', 'TW', 'US', 'UY', 'VN', 'ZA'], 'disc_number': 1, 'duration_ms': 163636, 'explicit': True, 'external_ids': {'isrc': 'USSM11914320'}, 'external_urls': {'spotify': 'https://open.spotify.com/track/696DnlkuDOXcMAnKlTgXXK'}, 'href': 'https://api.spotify.com/v1/tracks/696DnlkuDOXcMAnKlTgXXK', 'id': '696DnlkuDOXcMAnKlTgXXK', 'is_local': False, 'name': 'ROXANNE', 'popularity': 97, 'preview_url': 'https://p.scdn.co/mp3-preview/17c8499c72603f1a2726dd121eb245c445d1dd84?cid=841e0a8ce6a84bab829e9b438660e75f', 'track_number': 1, 'type': 'track', 'uri': 'spotify:track:696DnlkuDOXcMAnKlTgXXK'}, {'album': {'album_type': 'single', 'artists': [{'external_urls': {'spotify': 'https://open.spotify.com/artist/6qqNVTkY8uBg9cP3Jd7DAH'}, 'href': 'https://api.spotify.com/v1/artists/6qqNVTkY8uBg9cP3Jd7DAH', 'id': '6qqNVTkY8uBg9cP3Jd7DAH', 'name': 'Billie Eilish', 'type': 'artist', 'uri': 'spotify:artist:6qqNVTkY8uBg9cP3Jd7DAH'}], 'available_markets': ['AD', 'AE', 'AR', 'AT', 'AU', 'BE', 'BG', 'BH', 'BO', 'BR', 'CA', 'CH', 'CL', 'CO', 'CR', 'CY', 'CZ', 'DE', 'DK', 'DO', 'DZ', 'EC', 'EE', 'EG', 'ES', 'FI', 'FR', 'GB', 'GR', 'GT', 'HK', 'HN', 'HU', 'ID', 'IE', 'IL', 'IN', 'IS', 'IT', 'JO', 'JP', 'KW', 'LB', 'LI', 'LT', 'LU', 'LV', 'MA', 'MC', 'MT', 'MX', 'MY', 'NI', 'NL', 'NO', 'NZ', 'OM', 'PA', 'PE', 'PH', 'PL', 'PS', 'PT', 'PY', 'QA', 'RO', 'SA', 'SE', 'SG', 'SK', 'SV', 'TH', 'TN', 'TR', 'TW', 'US', 'UY', 'VN', 'ZA'], 'external_urls': {'spotify': 'https://open.spotify.com/album/4i3rAwPw7Ln2YrKDusaWyT'}, 'href': 'https://api.spotify.com/v1/albums/4i3rAwPw7Ln2YrKDusaWyT', 'id': '4i3rAwPw7Ln2YrKDusaWyT', 'images': [{'height': 640, 'url': 'https://i.scdn.co/image/18ad2ce4723468f55c2b9af9d5fe865d39890be3', 'width': 640}, {'height': 300, 'url': 'https://i.scdn.co/image/1e3362e292757120dc85c865c15669e5c503cb91', 'width': 300}, {'height': 64, 'url': 'https://i.scdn.co/image/c6683baebbc098fb64d3221f2b3f909200cdea6e', 'width': 64}], 'name': 'everything i wanted', 'release_date': '2019-11-13', 'release_date_precision': 'day', 'total_tracks': 1, 'type': 'album', 'uri': 'spotify:album:4i3rAwPw7Ln2YrKDusaWyT'}, 'artists': [{'external_urls': {'spotify': 'https://open.spotify.com/artist/6qqNVTkY8uBg9cP3Jd7DAH'}, 'href': 'https://api.spotify.com/v1/artists/6qqNVTkY8uBg9cP3Jd7DAH', 'id': '6qqNVTkY8uBg9cP3Jd7DAH', 'name': 'Billie Eilish', 'type': 'artist', 'uri': 'spotify:artist:6qqNVTkY8uBg9cP3Jd7DAH'}], 'available_markets': ['AD', 'AE', 'AR', 'AT', 'AU', 'BE', 'BG', 'BH', 'BO', 'BR', 'CA', 'CH', 'CL', 'CO', 'CR', 'CY', 'CZ', 'DE', 'DK', 'DO', 'DZ', 'EC', 'EE', 'EG', 'ES', 'FI', 'FR', 'GB', 'GR', 'GT', 'HK', 'HN', 'HU', 'ID', 'IE', 'IL', 'IN', 'IS', 'IT', 'JO', 'JP', 'KW', 'LB', 'LI', 'LT', 'LU', 'LV', 'MA', 'MC', 'MT', 'MX', 'MY', 'NI', 'NL', 'NO', 'NZ', 'OM', 'PA', 'PE', 'PH', 'PL', 'PS', 'PT', 'PY', 'QA', 'RO', 'SA', 'SE', 'SG', 'SK', 'SV', 'TH', 'TN', 'TR', 'TW', 'US', 'UY', 'VN', 'ZA'], 'disc_number': 1, 'duration_ms': 245425, 'explicit': False, 'external_ids': {'isrc': 'USUM71922577'}, 'external_urls': {'spotify': 'https://open.spotify.com/track/3ZCTVFBt2Brf31RLEnCkWJ'}, 'href': 'https://api.spotify.com/v1/tracks/3ZCTVFBt2Brf31RLEnCkWJ', 'id': '3ZCTVFBt2Brf31RLEnCkWJ', 'is_local': False, 'name': 'everything i wanted', 'popularity': 98, 'preview_url': None, 'track_number': 1, 'type': 'track', 'uri': 'spotify:track:3ZCTVFBt2Brf31RLEnCkWJ'}, {'album': {'album_type': 'single', 'artists': [{'external_urls': {'spotify': 'https://open.spotify.com/artist/0C8ZW7ezQVs4URX5aX7Kqx'}, 'href': 'https://api.spotify.com/v1/artists/0C8ZW7ezQVs4URX5aX7Kqx', 'id': '0C8ZW7ezQVs4URX5aX7Kqx', 'name': 'Selena Gomez', 'type': 'artist', 'uri': 'spotify:artist:0C8ZW7ezQVs4URX5aX7Kqx'}], 'available_markets': ['AD', 'AE', 'AR', 'AT', 'AU', 'BE', 'BG', 'BH', 'BO', 'BR', 'CA', 'CH', 'CL', 'CO', 'CR', 'CY', 'CZ', 'DE', 'DK', 'DO', 'DZ', 'EC', 'EE', 'EG', 'ES', 'FI', 'FR', 'GB', 'GR', 'GT', 'HK', 'HN', 'HU', 'ID', 'IE', 'IL', 'IN', 'IS', 'IT', 'JO', 'JP', 'KW', 'LB', 'LI', 'LT', 'LU', 'LV', 'MA', 'MC', 'MT', 'MX', 'MY', 'NI', 'NL', 'NO', 'NZ', 'OM', 'PA', 'PE', 'PH', 'PL', 'PS', 'PT', 'PY', 'QA', 'RO', 'SA', 'SE', 'SG', 'SK', 'SV', 'TH', 'TN', 'TR', 'TW', 'US', 'UY', 'VN', 'ZA'], 'external_urls': {'spotify': 'https://open.spotify.com/album/3tBkjgxDqAwss76O1YHsSY'}, 'href': 'https://api.spotify.com/v1/albums/3tBkjgxDqAwss76O1YHsSY', 'id': '3tBkjgxDqAwss76O1YHsSY', 'images': [{'height': 640, 'url': 'https://i.scdn.co/image/2e68378a5935516a3cc5591a70aa066f0a6d03d8', 'width': 640}, {'height': 300, 'url': 'https://i.scdn.co/image/42dcb033ff320533eac936a0abfc24f0f9404127', 'width': 300}, {'height': 64, 'url': 'https://i.scdn.co/image/d485908b0ed0de2877196e73a2b3a1c46447690f', 'width': 64}], 'name': 'Lose You To Love Me', 'release_date': '2019-10-23', 'release_date_precision': 'day', 'total_tracks': 1, 'type': 'album', 'uri': 'spotify:album:3tBkjgxDqAwss76O1YHsSY'}, 'artists': [{'external_urls': {'spotify': 'https://open.spotify.com/artist/0C8ZW7ezQVs4URX5aX7Kqx'}, 'href': 'https://api.spotify.com/v1/artists/0C8ZW7ezQVs4URX5aX7Kqx', 'id': '0C8ZW7ezQVs4URX5aX7Kqx', 'name': 'Selena Gomez', 'type': 'artist', 'uri': 'spotify:artist:0C8ZW7ezQVs4URX5aX7Kqx'}], 'available_markets': ['AD', 'AE', 'AR', 'AT', 'AU', 'BE', 'BG', 'BH', 'BO', 'BR', 'CA', 'CH', 'CL', 'CO', 'CR', 'CY', 'CZ', 'DE', 'DK', 'DO', 'DZ', 'EC', 'EE', 'EG', 'ES', 'FI', 'FR', 'GB', 'GR', 'GT', 'HK', 'HN', 'HU', 'ID', 'IE', 'IL', 'IN', 'IS', 'IT', 'JO', 'JP', 'KW', 'LB', 'LI', 'LT', 'LU', 'LV', 'MA', 'MC', 'MT', 'MX', 'MY', 'NI', 'NL', 'NO', 'NZ', 'OM', 'PA', 'PE', 'PH', 'PL', 'PS', 'PT', 'PY', 'QA', 'RO', 'SA', 'SE', 'SG', 'SK', 'SV', 'TH', 'TN', 'TR', 'TW', 'US', 'UY', 'VN', 'ZA'], 'disc_number': 1, 'duration_ms': 206458, 'explicit': False, 'external_ids': {'isrc': 'USUM71918727'}, 'external_urls': {'spotify': 'https://open.spotify.com/track/1HfMVBKM75vxSfsQ5VefZ5'}, 'href': 'https://api.spotify.com/v1/tracks/1HfMVBKM75vxSfsQ5VefZ5', 'id': '1HfMVBKM75vxSfsQ5VefZ5', 'is_local': False, 'name': 'Lose You To Love Me', 'popularity': 98, 'preview_url': None, 'track_number': 1, 'type': 'track', 'uri': 'spotify:track:1HfMVBKM75vxSfsQ5VefZ5'}, {'album': {'album_type': 'single', 'artists': [{'external_urls': {'spotify': 'https://open.spotify.com/artist/2cFrymmkijnjDg9SS92EPM'}, 'href': 'https://api.spotify.com/v1/artists/2cFrymmkijnjDg9SS92EPM', 'id': '2cFrymmkijnjDg9SS92EPM', 'name': 'blackbear', 'type': 'artist', 'uri': 'spotify:artist:2cFrymmkijnjDg9SS92EPM'}], 'available_markets': ['AD', 'AE', 'AR', 'AT', 'AU', 'BE', 'BG', 'BH', 'BO', 'BR', 'CA', 'CH', 'CL', 'CO', 'CR', 'CY', 'CZ', 'DE', 'DK', 'DO', 'DZ', 'EC', 'EE', 'EG', 'ES', 'FI', 'FR', 'GB', 'GR', 'GT', 'HK', 'HN', 'HU', 'ID', 'IE', 'IL', 'IN', 'IS', 'IT', 'JO', 'JP', 'KW', 'LB', 'LI', 'LT', 'LU', 'LV', 'MA', 'MC', 'MT', 'MX', 'MY', 'NI', 'NL', 'NO', 'NZ', 'OM', 'PA', 'PE', 'PH', 'PL', 'PS', 'PT', 'PY', 'QA', 'RO', 'SA', 'SE', 'SG', 'SK', 'SV', 'TH', 'TN', 'TR', 'TW', 'US', 'UY', 'VN', 'ZA'], 'external_urls': {'spotify': 'https://open.spotify.com/album/37CqAwxTungNxKpIK5vSgE'}, 'href': 'https://api.spotify.com/v1/albums/37CqAwxTungNxKpIK5vSgE', 'id': '37CqAwxTungNxKpIK5vSgE', 'images': [{'height': 640, 'url': 'https://i.scdn.co/image/1986b0504c53191b9790a1f45cc402c9ba2a94d5', 'width': 640}, {'height': 300, 'url': 'https://i.scdn.co/image/8ff771fa222f059797472d8fd7fa3c29712a63b8', 'width': 300}, {'height': 64, 'url': 'https://i.scdn.co/image/fadd7552af0779e4482d253b740def73786de682', 'width': 64}], 'name': 'hot girl bummer', 'release_date': '2019-08-23', 'release_date_precision': 'day', 'total_tracks': 1, 'type': 'album', 'uri': 'spotify:album:37CqAwxTungNxKpIK5vSgE'}, 'artists': [{'external_urls': {'spotify': 'https://open.spotify.com/artist/2cFrymmkijnjDg9SS92EPM'}, 'href': 'https://api.spotify.com/v1/artists/2cFrymmkijnjDg9SS92EPM', 'id': '2cFrymmkijnjDg9SS92EPM', 'name': 'blackbear', 'type': 'artist', 'uri': 'spotify:artist:2cFrymmkijnjDg9SS92EPM'}], 'available_markets': ['AD', 'AE', 'AR', 'AT', 'AU', 'BE', 'BG', 'BH', 'BO', 'BR', 'CA', 'CH', 'CL', 'CO', 'CR', 'CY', 'CZ', 'DE', 'DK', 'DO', 'DZ', 'EC', 'EE', 'EG', 'ES', 'FI', 'FR', 'GB', 'GR', 'GT', 'HK', 'HN', 'HU', 'ID', 'IE', 'IL', 'IN', 'IS', 'IT', 'JO', 'JP', 'KW', 'LB', 'LI', 'LT', 'LU', 'LV', 'MA', 'MC', 'MT', 'MX', 'MY', 'NI', 'NL', 'NO', 'NZ', 'OM', 'PA', 'PE', 'PH', 'PL', 'PS', 'PT', 'PY', 'QA', 'RO', 'SA', 'SE', 'SG', 'SK', 'SV', 'TH', 'TN', 'TR', 'TW', 'US', 'UY', 'VN', 'ZA'], 'disc_number': 1, 'duration_ms': 185093, 'explicit': True, 'external_ids': {'isrc': 'USUG11902959'}, 'external_urls': {'spotify': 'https://open.spotify.com/track/7aiClxsDWFRQ0Kzk5KI5ku'}, 'href': 'https://api.spotify.com/v1/tracks/7aiClxsDWFRQ0Kzk5KI5ku', 'id': '7aiClxsDWFRQ0Kzk5KI5ku', 'is_local': False, 'name': 'hot girl bummer', 'popularity': 96, 'preview_url': None, 'track_number': 1, 'type': 'track', 'uri': 'spotify:track:7aiClxsDWFRQ0Kzk5KI5ku'}, {'album': {'album_type': 'album', 'artists': [{'external_urls': {'spotify': 'https://open.spotify.com/artist/4r63FhuTkUYltbVAg5TQnk'}, 'href': 'https://api.spotify.com/v1/artists/4r63FhuTkUYltbVAg5TQnk', 'id': '4r63FhuTkUYltbVAg5TQnk', 'name': 'DaBaby', 'type': 'artist', 'uri': 'spotify:artist:4r63FhuTkUYltbVAg5TQnk'}], 'available_markets': ['AD', 'AE', 'AR', 'AT', 'AU', 'BE', 'BG', 'BH', 'BO', 'BR', 'CA', 'CH', 'CL', 'CO', 'CR', 'CY', 'CZ', 'DE', 'DK', 'DO', 'DZ', 'EC', 'EE', 'EG', 'ES', 'FI', 'FR', 'GB', 'GR', 'GT', 'HK', 'HN', 'HU', 'ID', 'IE', 'IL', 'IN', 'IS', 'IT', 'JO', 'JP', 'KW', 'LB', 'LI', 'LT', 'LU', 'LV', 'MA', 'MC', 'MT', 'MX', 'MY', 'NI', 'NL', 'NO', 'NZ', 'OM', 'PA', 'PE', 'PH', 'PL', 'PS', 'PT', 'PY', 'QA', 'RO', 'SA', 'SE', 'SG', 'SK', 'SV', 'TH', 'TN', 'TR', 'TW', 'US', 'UY', 'VN', 'ZA'], 'external_urls': {'spotify': 'https://open.spotify.com/album/1NsTSXjVNE7XmZ8PmyW0wl'}, 'href': 'https://api.spotify.com/v1/albums/1NsTSXjVNE7XmZ8PmyW0wl', 'id': '1NsTSXjVNE7XmZ8PmyW0wl', 'images': [{'height': 640, 'url': 'https://i.scdn.co/image/75dfef94eef569df9df376633a8b269b12cd9e6d', 'width': 640}, {'height': 300, 'url': 'https://i.scdn.co/image/6c76a1062f96914358b73054aea2cbf5c647b71c', 'width': 300}, {'height': 64, 'url': 'https://i.scdn.co/image/92418eaccce63ba250b04f2579dc7f6fed219453', 'width': 64}], 'name': 'KIRK', 'release_date': '2019-09-27', 'release_date_precision': 'day', 'total_tracks': 13, 'type': 'album', 'uri': 'spotify:album:1NsTSXjVNE7XmZ8PmyW0wl'}, 'artists': [{'external_urls': {'spotify': 'https://open.spotify.com/artist/4r63FhuTkUYltbVAg5TQnk'}, 'href': 'https://api.spotify.com/v1/artists/4r63FhuTkUYltbVAg5TQnk', 'id': '4r63FhuTkUYltbVAg5TQnk', 'name': 'DaBaby', 'type': 'artist', 'uri': 'spotify:artist:4r63FhuTkUYltbVAg5TQnk'}], 'available_markets': ['AD', 'AE', 'AR', 'AT', 'AU', 'BE', 'BG', 'BH', 'BO', 'BR', 'CA', 'CH', 'CL', 'CO', 'CR', 'CY', 'CZ', 'DE', 'DK', 'DO', 'DZ', 'EC', 'EE', 'EG', 'ES', 'FI', 'FR', 'GB', 'GR', 'GT', 'HK', 'HN', 'HU', 'ID', 'IE', 'IL', 'IN', 'IS', 'IT', 'JO', 'JP', 'KW', 'LB', 'LI', 'LT', 'LU', 'LV', 'MA', 'MC', 'MT', 'MX', 'MY', 'NI', 'NL', 'NO', 'NZ', 'OM', 'PA', 'PE', 'PH', 'PL', 'PS', 'PT', 'PY', 'QA', 'RO', 'SA', 'SE', 'SG', 'SK', 'SV', 'TH', 'TN', 'TR', 'TW', 'US', 'UY', 'VN', 'ZA'], 'disc_number': 1, 'duration_ms': 159714, 'explicit': True, 'external_ids': {'isrc': 'USUM71918972'}, 'external_urls': {'spotify': 'https://open.spotify.com/track/6Ozh9Ok6h4Oi1wUSLtBseN'}, 'href': 'https://api.spotify.com/v1/tracks/6Ozh9Ok6h4Oi1wUSLtBseN', 'id': '6Ozh9Ok6h4Oi1wUSLtBseN', 'is_local': False, 'name': 'BOP', 'popularity': 91, 'preview_url': None, 'track_number': 3, 'type': 'track', 'uri': 'spotify:track:6Ozh9Ok6h4Oi1wUSLtBseN'}, {'album': {'album_type': 'single', 'artists': [{'external_urls': {'spotify': 'https://open.spotify.com/artist/04gDigrS5kc9YWfZHwBETP'}, 'href': 'https://api.spotify.com/v1/artists/04gDigrS5kc9YWfZHwBETP', 'id': '04gDigrS5kc9YWfZHwBETP', 'name': 'Maroon 5', 'type': 'artist', 'uri': 'spotify:artist:04gDigrS5kc9YWfZHwBETP'}], 'available_markets': ['AD', 'AE', 'AR', 'AT', 'AU', 'BE', 'BG', 'BH', 'BO', 'BR', 'CA', 'CH', 'CL', 'CO', 'CR', 'CY', 'CZ', 'DE', 'DK', 'DO', 'DZ', 'EC', 'EE', 'EG', 'ES', 'FI', 'FR', 'GB', 'GR', 'GT', 'HK', 'HN', 'HU', 'ID', 'IE', 'IL', 'IN', 'IS', 'IT', 'JO', 'JP', 'KW', 'LB', 'LI', 'LT', 'LU', 'LV', 'MA', 'MC', 'MT', 'MX', 'MY', 'NI', 'NL', 'NO', 'NZ', 'OM', 'PA', 'PE', 'PH', 'PL', 'PS', 'PT', 'PY', 'QA', 'RO', 'SA', 'SE', 'SG', 'SK', 'SV', 'TH', 'TN', 'TR', 'TW', 'US', 'UY', 'VN', 'ZA'], 'external_urls': {'spotify': 'https://open.spotify.com/album/3nR9B40hYLKLcR0Eph3Goc'}, 'href': 'https://api.spotify.com/v1/albums/3nR9B40hYLKLcR0Eph3Goc', 'id': '3nR9B40hYLKLcR0Eph3Goc', 'images': [{'height': 640, 'url': 'https://i.scdn.co/image/5b70313db3a032aa13d85ac0e78340e292c2812b', 'width': 640}, {'height': 300, 'url': 'https://i.scdn.co/image/aa47a3cdb250f4ef42b4790a2f61326c71b8ea4d', 'width': 300}, {'height': 64, 'url': 'https://i.scdn.co/image/4924a6ec0e2ae08bf7c74de14269918e71fc0d29', 'width': 64}], 'name': 'Memories', 'release_date': '2019-09-20', 'release_date_precision': 'day', 'total_tracks': 1, 'type': 'album', 'uri': 'spotify:album:3nR9B40hYLKLcR0Eph3Goc'}, 'artists': [{'external_urls': {'spotify': 'https://open.spotify.com/artist/04gDigrS5kc9YWfZHwBETP'}, 'href': 'https://api.spotify.com/v1/artists/04gDigrS5kc9YWfZHwBETP', 'id': '04gDigrS5kc9YWfZHwBETP', 'name': 'Maroon 5', 'type': 'artist', 'uri': 'spotify:artist:04gDigrS5kc9YWfZHwBETP'}], 'available_markets': ['AD', 'AE', 'AR', 'AT', 'AU', 'BE', 'BG', 'BH', 'BO', 'BR', 'CA', 'CH', 'CL', 'CO', 'CR', 'CY', 'CZ', 'DE', 'DK', 'DO', 'DZ', 'EC', 'EE', 'EG', 'ES', 'FI', 'FR', 'GB', 'GR', 'GT', 'HK', 'HN', 'HU', 'ID', 'IE', 'IL', 'IN', 'IS', 'IT', 'JO', 'JP', 'KW', 'LB', 'LI', 'LT', 'LU', 'LV', 'MA', 'MC', 'MT', 'MX', 'MY', 'NI', 'NL', 'NO', 'NZ', 'OM', 'PA', 'PE', 'PH', 'PL', 'PS', 'PT', 'PY', 'QA', 'RO', 'SA', 'SE', 'SG', 'SK', 'SV', 'TH', 'TN', 'TR', 'TW', 'US', 'UY', 'VN', 'ZA'], 'disc_number': 1, 'duration_ms': 189486, 'explicit': False, 'external_ids': {'isrc': 'USUM71913350'}, 'external_urls': {'spotify': 'https://open.spotify.com/track/2b8fOow8UzyDFAE27YhOZM'}, 'href': 'https://api.spotify.com/v1/tracks/2b8fOow8UzyDFAE27YhOZM', 'id': '2b8fOow8UzyDFAE27YhOZM', 'is_local': False, 'name': 'Memories', 'popularity': 100, 'preview_url': None, 'track_number': 1, 'type': 'track', 'uri': 'spotify:track:2b8fOow8UzyDFAE27YhOZM'}, {'album': {'album_type': 'single', 'artists': [{'external_urls': {'spotify': 'https://open.spotify.com/artist/1Xyo4u8uXC1ZmMpatF05PJ'}, 'href': 'https://api.spotify.com/v1/artists/1Xyo4u8uXC1ZmMpatF05PJ', 'id': '1Xyo4u8uXC1ZmMpatF05PJ', 'name': 'The Weeknd', 'type': 'artist', 'uri': 'spotify:artist:1Xyo4u8uXC1ZmMpatF05PJ'}], 'available_markets': ['AD', 'AE', 'AR', 'AT', 'AU', 'BE', 'BG', 'BH', 'BO', 'BR', 'CA', 'CH', 'CL', 'CO', 'CR', 'CY', 'CZ', 'DE', 'DK', 'DO', 'DZ', 'EC', 'EE', 'EG', 'ES', 'FI', 'FR', 'GB', 'GR', 'GT', 'HK', 'HN', 'HU', 'ID', 'IE', 'IL', 'IN', 'IS', 'IT', 'JO', 'JP', 'KW', 'LB', 'LI', 'LT', 'LU', 'LV', 'MA', 'MC', 'MT', 'MX', 'MY', 'NI', 'NL', 'NO', 'NZ', 'OM', 'PA', 'PE', 'PH', 'PL', 'PS', 'PT', 'PY', 'QA', 'RO', 'SA', 'SE', 'SG', 'SK', 'SV', 'TH', 'TN', 'TR', 'TW', 'US', 'UY', 'VN', 'ZA'], 'external_urls': {'spotify': 'https://open.spotify.com/album/7vRcickwa6GCfY1qKKe4lK'}, 'href': 'https://api.spotify.com/v1/albums/7vRcickwa6GCfY1qKKe4lK', 'id': '7vRcickwa6GCfY1qKKe4lK', 'images': [{'height': 640, 'url': 'https://i.scdn.co/image/6713a45ed7a4998c06ccb822bcca0a1349ef2fe1', 'width': 640}, {'height': 300, 'url': 'https://i.scdn.co/image/40d6c1e95ffbaa2f7675397fdf91917383f02eb5', 'width': 300}, {'height': 64, 'url': 'https://i.scdn.co/image/2ea98eb2f7f0fbace826cfc0e4668048495d6545', 'width': 64}], 'name': 'Heartless', 'release_date': '2019-11-27', 'release_date_precision': 'day', 'total_tracks': 1, 'type': 'album', 'uri': 'spotify:album:7vRcickwa6GCfY1qKKe4lK'}, 'artists': [{'external_urls': {'spotify': 'https://open.spotify.com/artist/1Xyo4u8uXC1ZmMpatF05PJ'}, 'href': 'https://api.spotify.com/v1/artists/1Xyo4u8uXC1ZmMpatF05PJ', 'id': '1Xyo4u8uXC1ZmMpatF05PJ', 'name': 'The Weeknd', 'type': 'artist', 'uri': 'spotify:artist:1Xyo4u8uXC1ZmMpatF05PJ'}], 'available_markets': ['AD', 'AE', 'AR', 'AT', 'AU', 'BE', 'BG', 'BH', 'BO', 'BR', 'CA', 'CH', 'CL', 'CO', 'CR', 'CY', 'CZ', 'DE', 'DK', 'DO', 'DZ', 'EC', 'EE', 'EG', 'ES', 'FI', 'FR', 'GB', 'GR', 'GT', 'HK', 'HN', 'HU', 'ID', 'IE', 'IL', 'IN', 'IS', 'IT', 'JO', 'JP', 'KW', 'LB', 'LI', 'LT', 'LU', 'LV', 'MA', 'MC', 'MT', 'MX', 'MY', 'NI', 'NL', 'NO', 'NZ', 'OM', 'PA', 'PE', 'PH', 'PL', 'PS', 'PT', 'PY', 'QA', 'RO', 'SA', 'SE', 'SG', 'SK', 'SV', 'TH', 'TN', 'TR', 'TW', 'US', 'UY', 'VN', 'ZA'], 'disc_number': 1, 'duration_ms': 200080, 'explicit': True, 'external_ids': {'isrc': 'USUG11904007'}, 'external_urls': {'spotify': 'https://open.spotify.com/track/57vxBYXtHMk6H1aD29V7PU'}, 'href': 'https://api.spotify.com/v1/tracks/57vxBYXtHMk6H1aD29V7PU', 'id': '57vxBYXtHMk6H1aD29V7PU', 'is_local': False, 'name': 'Heartless', 'popularity': 94, 'preview_url': None, 'track_number': 1, 'type': 'track', 'uri': 'spotify:track:57vxBYXtHMk6H1aD29V7PU'}], 'limit': 10, 'next': 'https://api.spotify.com/v1/search?query=year%3A2019&type=track&offset=10&limit=10', 'offset': 0, 'previous': None, 'total': 100000}}\n"
     ]
    }
   ],
   "source": [
    "output = sp.search(q='year:2019', type='track')\n",
    "print(output)"
   ]
  },
  {
   "cell_type": "markdown",
   "metadata": {},
   "source": [
    "Creating empty list and getting the artist name, track name, popularity parameter and the track id of 10000 tracks from the results shown above."
   ]
  },
  {
   "cell_type": "code",
   "execution_count": 4,
   "metadata": {},
   "outputs": [],
   "source": [
    "artist_name = []\n",
    "track_name = []\n",
    "popularity = []\n",
    "track_id = []\n",
    "\n",
    "#Offset is set to 50 as spotify returns maximum of 50 results per query\n",
    "for i in range(0,10000,50):\n",
    "    track_results = sp.search(q='year:2019', type='track', limit=50,offset=i)\n",
    "    for i, t in enumerate(track_results['tracks']['items']):\n",
    "        artist_name.append(t['artists'][0]['name'])\n",
    "        track_name.append(t['name'])\n",
    "        track_id.append(t['id'])\n",
    "        popularity.append(t['popularity'])"
   ]
  },
  {
   "cell_type": "code",
   "execution_count": 5,
   "metadata": {},
   "outputs": [
    {
     "name": "stdout",
     "output_type": "stream",
     "text": [
      "Number of tracks exracted: 10000\n"
     ]
    }
   ],
   "source": [
    "print(\"Number of tracks exracted: \" + str(len(track_id)))"
   ]
  },
  {
   "cell_type": "markdown",
   "metadata": {},
   "source": [
    "### 1.2 Formatting and Cleaning Code"
   ]
  },
  {
   "cell_type": "markdown",
   "metadata": {},
   "source": [
    "![alt text](https://tenor.com/view/sponge-bob-cleaning-cats-household-chores-gif-4998775.gif \"Logo Title Text 1\")\n"
   ]
  },
  {
   "cell_type": "markdown",
   "metadata": {},
   "source": [
    "Appending lists and converting them into a single dataframe."
   ]
  },
  {
   "cell_type": "code",
   "execution_count": 6,
   "metadata": {},
   "outputs": [
    {
     "name": "stdout",
     "output_type": "stream",
     "text": [
      "(10000, 4)\n"
     ]
    },
    {
     "data": {
      "text/html": [
       "<div>\n",
       "<style scoped>\n",
       "    .dataframe tbody tr th:only-of-type {\n",
       "        vertical-align: middle;\n",
       "    }\n",
       "\n",
       "    .dataframe tbody tr th {\n",
       "        vertical-align: top;\n",
       "    }\n",
       "\n",
       "    .dataframe thead th {\n",
       "        text-align: right;\n",
       "    }\n",
       "</style>\n",
       "<table border=\"1\" class=\"dataframe\">\n",
       "  <thead>\n",
       "    <tr style=\"text-align: right;\">\n",
       "      <th></th>\n",
       "      <th>artist_name</th>\n",
       "      <th>track_name</th>\n",
       "      <th>track_id</th>\n",
       "      <th>popularity</th>\n",
       "    </tr>\n",
       "  </thead>\n",
       "  <tbody>\n",
       "    <tr>\n",
       "      <td>0</td>\n",
       "      <td>Post Malone</td>\n",
       "      <td>Circles</td>\n",
       "      <td>21jGcNKet2qwijlDFuPiPb</td>\n",
       "      <td>99</td>\n",
       "    </tr>\n",
       "    <tr>\n",
       "      <td>1</td>\n",
       "      <td>Travis Scott</td>\n",
       "      <td>HIGHEST IN THE ROOM</td>\n",
       "      <td>3eekarcy7kvN4yt5ZFzltW</td>\n",
       "      <td>97</td>\n",
       "    </tr>\n",
       "    <tr>\n",
       "      <td>2</td>\n",
       "      <td>Juice WRLD</td>\n",
       "      <td>Bandit (with YoungBoy Never Broke Again)</td>\n",
       "      <td>6Gg1gjgKi2AK4e0qzsR7sd</td>\n",
       "      <td>94</td>\n",
       "    </tr>\n",
       "    <tr>\n",
       "      <td>3</td>\n",
       "      <td>Arizona Zervas</td>\n",
       "      <td>ROXANNE</td>\n",
       "      <td>696DnlkuDOXcMAnKlTgXXK</td>\n",
       "      <td>97</td>\n",
       "    </tr>\n",
       "    <tr>\n",
       "      <td>4</td>\n",
       "      <td>Billie Eilish</td>\n",
       "      <td>everything i wanted</td>\n",
       "      <td>3ZCTVFBt2Brf31RLEnCkWJ</td>\n",
       "      <td>98</td>\n",
       "    </tr>\n",
       "  </tbody>\n",
       "</table>\n",
       "</div>"
      ],
      "text/plain": [
       "      artist_name                                track_name  \\\n",
       "0     Post Malone                                   Circles   \n",
       "1    Travis Scott                       HIGHEST IN THE ROOM   \n",
       "2      Juice WRLD  Bandit (with YoungBoy Never Broke Again)   \n",
       "3  Arizona Zervas                                   ROXANNE   \n",
       "4   Billie Eilish                       everything i wanted   \n",
       "\n",
       "                 track_id  popularity  \n",
       "0  21jGcNKet2qwijlDFuPiPb          99  \n",
       "1  3eekarcy7kvN4yt5ZFzltW          97  \n",
       "2  6Gg1gjgKi2AK4e0qzsR7sd          94  \n",
       "3  696DnlkuDOXcMAnKlTgXXK          97  \n",
       "4  3ZCTVFBt2Brf31RLEnCkWJ          98  "
      ]
     },
     "execution_count": 6,
     "metadata": {},
     "output_type": "execute_result"
    }
   ],
   "source": [
    "import pandas as pd\n",
    "\n",
    "tracks_df = pd.DataFrame({'artist_name':artist_name,'track_name':track_name,'track_id':track_id,'popularity':popularity})\n",
    "print(tracks_df.shape)\n",
    "tracks_df.head()"
   ]
  },
  {
   "cell_type": "markdown",
   "metadata": {},
   "source": [
    "### 1.3 Dealing with duplicate values"
   ]
  },
  {
   "cell_type": "markdown",
   "metadata": {},
   "source": [
    "Many a times, a single track has more than one entry in the dataset. This is due to the track having different track_id as they might have appeared as a single as well as in the album. It might also be due to the track appearing under the profile of two artists who might have collaborated on the track.\n",
    "\n",
    "We check for these duplicate values by grouping them by artist names and track names and then checking "
   ]
  },
  {
   "cell_type": "code",
   "execution_count": 7,
   "metadata": {},
   "outputs": [
    {
     "name": "stdout",
     "output_type": "stream",
     "text": [
      "Tracks grouped by artist name and track name:\n",
      "======================\n",
      "artist_name  track_name                                                  \n",
      "$NOT         Beretta (feat. Wifisfuneral)                                    1\n",
      "             Billy Boy                                                       1\n",
      "             Megan                                                           1\n",
      "             Vision (feat. Lil Tracy)                                        1\n",
      "$uicideBoy$  Aliens Are Ghosts ($UICIDEBOY$ X TRAVIS BARKER)                 2\n",
      "             DON'T TRUST ANYONE! ($UICIDEBOY$ X TRAVIS BARKER)               1\n",
      "             Individuality Was So Last Year ($UICIDEBOY$ X TRAVIS BARKER)    1\n",
      "             Killing 2 Birds With 22 Stones ($UICIDEBOY$ X TRAVIS BARKER)    1\n",
      "             Sour Grapes ($UICIDEBOY$ X TRAVIS BARKER)                       1\n",
      "(G)I-DLE     LION                                                            1\n",
      "dtype: int64\n",
      "======================\n",
      "All the tracks with duplicate values:\n",
      "======================\n",
      "artist_name          track_name                                     \n",
      "$uicideBoy$          Aliens Are Ghosts ($UICIDEBOY$ X TRAVIS BARKER)    2\n",
      "24kGoldn             A LOT TO LOSE                                      2\n",
      "                     DROPPED OUTTA COLLEGE                              2\n",
      "                     GAMES ON YOUR PHONE                                2\n",
      "                     VALENTINO                                          2\n",
      "5 Seconds of Summer  Teeth                                              2\n",
      "83 Babies            No Cap (feat. Rich The Kid)                        3\n",
      "88rising             Breathe                                            2\n",
      "                     Indigo                                             2\n",
      "                     These Nights                                       2\n",
      "dtype: int64\n"
     ]
    }
   ],
   "source": [
    "grouped = tracks_df.groupby(['artist_name','track_name'], as_index=True).size()\n",
    "print(\"Tracks grouped by artist name and track name:\")\n",
    "print(\"======================\")\n",
    "print(grouped.head(10))\n",
    "print(\"======================\")\n",
    "print(\"All the tracks with duplicate values:\")\n",
    "print(\"======================\")\n",
    "print(grouped[grouped > 1].head(10))"
   ]
  },
  {
   "cell_type": "code",
   "execution_count": 8,
   "metadata": {},
   "outputs": [
    {
     "name": "stdout",
     "output_type": "stream",
     "text": [
      "Number of duplicate values: 480\n"
     ]
    }
   ],
   "source": [
    "print(\"Number of duplicate values: \" + str(grouped[grouped > 1].count()))"
   ]
  },
  {
   "cell_type": "markdown",
   "metadata": {},
   "source": [
    "Hence there are 485 duplicate values. In the below code we delete these duplicate values."
   ]
  },
  {
   "cell_type": "code",
   "execution_count": 9,
   "metadata": {},
   "outputs": [
    {
     "name": "stdout",
     "output_type": "stream",
     "text": [
      "Number of tracks left in the dataframe: 9435\n"
     ]
    }
   ],
   "source": [
    "tracks_df.drop_duplicates(subset=['artist_name','track_name'], inplace=True)\n",
    "print(\"Number of tracks left in the dataframe: \" + str(len(tracks_df)))"
   ]
  },
  {
   "cell_type": "markdown",
   "metadata": {},
   "source": [
    "### 1.4 Data Extraction - 2 (Audio features of the extracted tracks)\n",
    "\n",
    "![alt text](https://media.giphy.com/media/mi9n538gBX584/giphy.gif)"
   ]
  },
  {
   "cell_type": "code",
   "execution_count": 10,
   "metadata": {},
   "outputs": [],
   "source": [
    "features_list = []\n",
    "\n",
    "for i in range(0,len(tracks_df['track_id']),100):\n",
    "    temp = tracks_df['track_id'][i:i+100]\n",
    "    features_temp = sp.audio_features(temp)\n",
    "    for i, t in enumerate(features_temp):\n",
    "        if t != None:\n",
    "            features_list.append(t)            "
   ]
  },
  {
   "cell_type": "code",
   "execution_count": 11,
   "metadata": {
    "scrolled": true
   },
   "outputs": [
    {
     "data": {
      "text/html": [
       "<div>\n",
       "<style scoped>\n",
       "    .dataframe tbody tr th:only-of-type {\n",
       "        vertical-align: middle;\n",
       "    }\n",
       "\n",
       "    .dataframe tbody tr th {\n",
       "        vertical-align: top;\n",
       "    }\n",
       "\n",
       "    .dataframe thead th {\n",
       "        text-align: right;\n",
       "    }\n",
       "</style>\n",
       "<table border=\"1\" class=\"dataframe\">\n",
       "  <thead>\n",
       "    <tr style=\"text-align: right;\">\n",
       "      <th></th>\n",
       "      <th>danceability</th>\n",
       "      <th>energy</th>\n",
       "      <th>key</th>\n",
       "      <th>loudness</th>\n",
       "      <th>mode</th>\n",
       "      <th>speechiness</th>\n",
       "      <th>acousticness</th>\n",
       "      <th>instrumentalness</th>\n",
       "      <th>liveness</th>\n",
       "      <th>valence</th>\n",
       "      <th>tempo</th>\n",
       "      <th>type</th>\n",
       "      <th>id</th>\n",
       "      <th>uri</th>\n",
       "      <th>track_href</th>\n",
       "      <th>analysis_url</th>\n",
       "      <th>duration_ms</th>\n",
       "      <th>time_signature</th>\n",
       "    </tr>\n",
       "  </thead>\n",
       "  <tbody>\n",
       "    <tr>\n",
       "      <td>0</td>\n",
       "      <td>0.695</td>\n",
       "      <td>0.762</td>\n",
       "      <td>0</td>\n",
       "      <td>-3.497</td>\n",
       "      <td>1</td>\n",
       "      <td>0.0395</td>\n",
       "      <td>0.1920</td>\n",
       "      <td>0.002440</td>\n",
       "      <td>0.0863</td>\n",
       "      <td>0.5530</td>\n",
       "      <td>120.042</td>\n",
       "      <td>audio_features</td>\n",
       "      <td>21jGcNKet2qwijlDFuPiPb</td>\n",
       "      <td>spotify:track:21jGcNKet2qwijlDFuPiPb</td>\n",
       "      <td>https://api.spotify.com/v1/tracks/21jGcNKet2qw...</td>\n",
       "      <td>https://api.spotify.com/v1/audio-analysis/21jG...</td>\n",
       "      <td>215280</td>\n",
       "      <td>4</td>\n",
       "    </tr>\n",
       "    <tr>\n",
       "      <td>1</td>\n",
       "      <td>0.598</td>\n",
       "      <td>0.427</td>\n",
       "      <td>7</td>\n",
       "      <td>-8.764</td>\n",
       "      <td>0</td>\n",
       "      <td>0.0317</td>\n",
       "      <td>0.0546</td>\n",
       "      <td>0.000006</td>\n",
       "      <td>0.2100</td>\n",
       "      <td>0.0605</td>\n",
       "      <td>76.469</td>\n",
       "      <td>audio_features</td>\n",
       "      <td>3eekarcy7kvN4yt5ZFzltW</td>\n",
       "      <td>spotify:track:3eekarcy7kvN4yt5ZFzltW</td>\n",
       "      <td>https://api.spotify.com/v1/tracks/3eekarcy7kvN...</td>\n",
       "      <td>https://api.spotify.com/v1/audio-analysis/3eek...</td>\n",
       "      <td>175721</td>\n",
       "      <td>4</td>\n",
       "    </tr>\n",
       "    <tr>\n",
       "      <td>2</td>\n",
       "      <td>0.474</td>\n",
       "      <td>0.631</td>\n",
       "      <td>5</td>\n",
       "      <td>-5.884</td>\n",
       "      <td>0</td>\n",
       "      <td>0.3430</td>\n",
       "      <td>0.0687</td>\n",
       "      <td>0.000000</td>\n",
       "      <td>0.1320</td>\n",
       "      <td>0.4250</td>\n",
       "      <td>180.051</td>\n",
       "      <td>audio_features</td>\n",
       "      <td>6Gg1gjgKi2AK4e0qzsR7sd</td>\n",
       "      <td>spotify:track:6Gg1gjgKi2AK4e0qzsR7sd</td>\n",
       "      <td>https://api.spotify.com/v1/tracks/6Gg1gjgKi2AK...</td>\n",
       "      <td>https://api.spotify.com/v1/audio-analysis/6Gg1...</td>\n",
       "      <td>189323</td>\n",
       "      <td>4</td>\n",
       "    </tr>\n",
       "    <tr>\n",
       "      <td>3</td>\n",
       "      <td>0.621</td>\n",
       "      <td>0.601</td>\n",
       "      <td>6</td>\n",
       "      <td>-5.616</td>\n",
       "      <td>0</td>\n",
       "      <td>0.1480</td>\n",
       "      <td>0.0522</td>\n",
       "      <td>0.000000</td>\n",
       "      <td>0.4600</td>\n",
       "      <td>0.4570</td>\n",
       "      <td>116.735</td>\n",
       "      <td>audio_features</td>\n",
       "      <td>696DnlkuDOXcMAnKlTgXXK</td>\n",
       "      <td>spotify:track:696DnlkuDOXcMAnKlTgXXK</td>\n",
       "      <td>https://api.spotify.com/v1/tracks/696DnlkuDOXc...</td>\n",
       "      <td>https://api.spotify.com/v1/audio-analysis/696D...</td>\n",
       "      <td>163636</td>\n",
       "      <td>5</td>\n",
       "    </tr>\n",
       "    <tr>\n",
       "      <td>4</td>\n",
       "      <td>0.704</td>\n",
       "      <td>0.225</td>\n",
       "      <td>6</td>\n",
       "      <td>-14.454</td>\n",
       "      <td>0</td>\n",
       "      <td>0.0994</td>\n",
       "      <td>0.9020</td>\n",
       "      <td>0.657000</td>\n",
       "      <td>0.1060</td>\n",
       "      <td>0.2430</td>\n",
       "      <td>120.006</td>\n",
       "      <td>audio_features</td>\n",
       "      <td>3ZCTVFBt2Brf31RLEnCkWJ</td>\n",
       "      <td>spotify:track:3ZCTVFBt2Brf31RLEnCkWJ</td>\n",
       "      <td>https://api.spotify.com/v1/tracks/3ZCTVFBt2Brf...</td>\n",
       "      <td>https://api.spotify.com/v1/audio-analysis/3ZCT...</td>\n",
       "      <td>245426</td>\n",
       "      <td>4</td>\n",
       "    </tr>\n",
       "  </tbody>\n",
       "</table>\n",
       "</div>"
      ],
      "text/plain": [
       "   danceability  energy  key  loudness  mode  speechiness  acousticness  \\\n",
       "0         0.695   0.762    0    -3.497     1       0.0395        0.1920   \n",
       "1         0.598   0.427    7    -8.764     0       0.0317        0.0546   \n",
       "2         0.474   0.631    5    -5.884     0       0.3430        0.0687   \n",
       "3         0.621   0.601    6    -5.616     0       0.1480        0.0522   \n",
       "4         0.704   0.225    6   -14.454     0       0.0994        0.9020   \n",
       "\n",
       "   instrumentalness  liveness  valence    tempo            type  \\\n",
       "0          0.002440    0.0863   0.5530  120.042  audio_features   \n",
       "1          0.000006    0.2100   0.0605   76.469  audio_features   \n",
       "2          0.000000    0.1320   0.4250  180.051  audio_features   \n",
       "3          0.000000    0.4600   0.4570  116.735  audio_features   \n",
       "4          0.657000    0.1060   0.2430  120.006  audio_features   \n",
       "\n",
       "                       id                                   uri  \\\n",
       "0  21jGcNKet2qwijlDFuPiPb  spotify:track:21jGcNKet2qwijlDFuPiPb   \n",
       "1  3eekarcy7kvN4yt5ZFzltW  spotify:track:3eekarcy7kvN4yt5ZFzltW   \n",
       "2  6Gg1gjgKi2AK4e0qzsR7sd  spotify:track:6Gg1gjgKi2AK4e0qzsR7sd   \n",
       "3  696DnlkuDOXcMAnKlTgXXK  spotify:track:696DnlkuDOXcMAnKlTgXXK   \n",
       "4  3ZCTVFBt2Brf31RLEnCkWJ  spotify:track:3ZCTVFBt2Brf31RLEnCkWJ   \n",
       "\n",
       "                                          track_href  \\\n",
       "0  https://api.spotify.com/v1/tracks/21jGcNKet2qw...   \n",
       "1  https://api.spotify.com/v1/tracks/3eekarcy7kvN...   \n",
       "2  https://api.spotify.com/v1/tracks/6Gg1gjgKi2AK...   \n",
       "3  https://api.spotify.com/v1/tracks/696DnlkuDOXc...   \n",
       "4  https://api.spotify.com/v1/tracks/3ZCTVFBt2Brf...   \n",
       "\n",
       "                                        analysis_url  duration_ms  \\\n",
       "0  https://api.spotify.com/v1/audio-analysis/21jG...       215280   \n",
       "1  https://api.spotify.com/v1/audio-analysis/3eek...       175721   \n",
       "2  https://api.spotify.com/v1/audio-analysis/6Gg1...       189323   \n",
       "3  https://api.spotify.com/v1/audio-analysis/696D...       163636   \n",
       "4  https://api.spotify.com/v1/audio-analysis/3ZCT...       245426   \n",
       "\n",
       "   time_signature  \n",
       "0               4  \n",
       "1               4  \n",
       "2               4  \n",
       "3               5  \n",
       "4               4  "
      ]
     },
     "execution_count": 11,
     "metadata": {},
     "output_type": "execute_result"
    }
   ],
   "source": [
    "# Making a dataframe for all the audio features\n",
    "df_audio_features = pd.DataFrame(features_list)\n",
    "df_audio_features.head()"
   ]
  },
  {
   "cell_type": "code",
   "execution_count": 12,
   "metadata": {},
   "outputs": [
    {
     "data": {
      "text/plain": [
       "Index(['danceability', 'energy', 'key', 'loudness', 'mode', 'speechiness',\n",
       "       'acousticness', 'instrumentalness', 'liveness', 'valence', 'tempo',\n",
       "       'type', 'id', 'uri', 'track_href', 'analysis_url', 'duration_ms',\n",
       "       'time_signature'],\n",
       "      dtype='object')"
      ]
     },
     "execution_count": 12,
     "metadata": {},
     "output_type": "execute_result"
    }
   ],
   "source": [
    "#Checking other columns that has been extracted along with audio features\n",
    "df_audio_features.columns"
   ]
  },
  {
   "cell_type": "markdown",
   "metadata": {},
   "source": [
    "### 1.5 Merging the audio features with the tracks dataframe usind track_id"
   ]
  },
  {
   "cell_type": "code",
   "execution_count": 13,
   "metadata": {},
   "outputs": [],
   "source": [
    "#First step: Renaming id to track_id in the audio features table\n",
    "df_audio_features.rename(columns={'id': 'track_id'}, inplace=True)"
   ]
  },
  {
   "cell_type": "code",
   "execution_count": 14,
   "metadata": {},
   "outputs": [
    {
     "data": {
      "text/html": [
       "<div>\n",
       "<style scoped>\n",
       "    .dataframe tbody tr th:only-of-type {\n",
       "        vertical-align: middle;\n",
       "    }\n",
       "\n",
       "    .dataframe tbody tr th {\n",
       "        vertical-align: top;\n",
       "    }\n",
       "\n",
       "    .dataframe thead th {\n",
       "        text-align: right;\n",
       "    }\n",
       "</style>\n",
       "<table border=\"1\" class=\"dataframe\">\n",
       "  <thead>\n",
       "    <tr style=\"text-align: right;\">\n",
       "      <th></th>\n",
       "      <th>artist_name</th>\n",
       "      <th>track_name</th>\n",
       "      <th>track_id</th>\n",
       "      <th>popularity</th>\n",
       "      <th>danceability</th>\n",
       "      <th>energy</th>\n",
       "      <th>key</th>\n",
       "      <th>loudness</th>\n",
       "      <th>mode</th>\n",
       "      <th>speechiness</th>\n",
       "      <th>...</th>\n",
       "      <th>instrumentalness</th>\n",
       "      <th>liveness</th>\n",
       "      <th>valence</th>\n",
       "      <th>tempo</th>\n",
       "      <th>type</th>\n",
       "      <th>uri</th>\n",
       "      <th>track_href</th>\n",
       "      <th>analysis_url</th>\n",
       "      <th>duration_ms</th>\n",
       "      <th>time_signature</th>\n",
       "    </tr>\n",
       "  </thead>\n",
       "  <tbody>\n",
       "    <tr>\n",
       "      <td>0</td>\n",
       "      <td>Post Malone</td>\n",
       "      <td>Circles</td>\n",
       "      <td>21jGcNKet2qwijlDFuPiPb</td>\n",
       "      <td>99</td>\n",
       "      <td>0.695</td>\n",
       "      <td>0.762</td>\n",
       "      <td>0</td>\n",
       "      <td>-3.497</td>\n",
       "      <td>1</td>\n",
       "      <td>0.0395</td>\n",
       "      <td>...</td>\n",
       "      <td>0.002440</td>\n",
       "      <td>0.0863</td>\n",
       "      <td>0.5530</td>\n",
       "      <td>120.042</td>\n",
       "      <td>audio_features</td>\n",
       "      <td>spotify:track:21jGcNKet2qwijlDFuPiPb</td>\n",
       "      <td>https://api.spotify.com/v1/tracks/21jGcNKet2qw...</td>\n",
       "      <td>https://api.spotify.com/v1/audio-analysis/21jG...</td>\n",
       "      <td>215280</td>\n",
       "      <td>4</td>\n",
       "    </tr>\n",
       "    <tr>\n",
       "      <td>1</td>\n",
       "      <td>Travis Scott</td>\n",
       "      <td>HIGHEST IN THE ROOM</td>\n",
       "      <td>3eekarcy7kvN4yt5ZFzltW</td>\n",
       "      <td>97</td>\n",
       "      <td>0.598</td>\n",
       "      <td>0.427</td>\n",
       "      <td>7</td>\n",
       "      <td>-8.764</td>\n",
       "      <td>0</td>\n",
       "      <td>0.0317</td>\n",
       "      <td>...</td>\n",
       "      <td>0.000006</td>\n",
       "      <td>0.2100</td>\n",
       "      <td>0.0605</td>\n",
       "      <td>76.469</td>\n",
       "      <td>audio_features</td>\n",
       "      <td>spotify:track:3eekarcy7kvN4yt5ZFzltW</td>\n",
       "      <td>https://api.spotify.com/v1/tracks/3eekarcy7kvN...</td>\n",
       "      <td>https://api.spotify.com/v1/audio-analysis/3eek...</td>\n",
       "      <td>175721</td>\n",
       "      <td>4</td>\n",
       "    </tr>\n",
       "    <tr>\n",
       "      <td>2</td>\n",
       "      <td>Juice WRLD</td>\n",
       "      <td>Bandit (with YoungBoy Never Broke Again)</td>\n",
       "      <td>6Gg1gjgKi2AK4e0qzsR7sd</td>\n",
       "      <td>94</td>\n",
       "      <td>0.474</td>\n",
       "      <td>0.631</td>\n",
       "      <td>5</td>\n",
       "      <td>-5.884</td>\n",
       "      <td>0</td>\n",
       "      <td>0.3430</td>\n",
       "      <td>...</td>\n",
       "      <td>0.000000</td>\n",
       "      <td>0.1320</td>\n",
       "      <td>0.4250</td>\n",
       "      <td>180.051</td>\n",
       "      <td>audio_features</td>\n",
       "      <td>spotify:track:6Gg1gjgKi2AK4e0qzsR7sd</td>\n",
       "      <td>https://api.spotify.com/v1/tracks/6Gg1gjgKi2AK...</td>\n",
       "      <td>https://api.spotify.com/v1/audio-analysis/6Gg1...</td>\n",
       "      <td>189323</td>\n",
       "      <td>4</td>\n",
       "    </tr>\n",
       "    <tr>\n",
       "      <td>3</td>\n",
       "      <td>Arizona Zervas</td>\n",
       "      <td>ROXANNE</td>\n",
       "      <td>696DnlkuDOXcMAnKlTgXXK</td>\n",
       "      <td>97</td>\n",
       "      <td>0.621</td>\n",
       "      <td>0.601</td>\n",
       "      <td>6</td>\n",
       "      <td>-5.616</td>\n",
       "      <td>0</td>\n",
       "      <td>0.1480</td>\n",
       "      <td>...</td>\n",
       "      <td>0.000000</td>\n",
       "      <td>0.4600</td>\n",
       "      <td>0.4570</td>\n",
       "      <td>116.735</td>\n",
       "      <td>audio_features</td>\n",
       "      <td>spotify:track:696DnlkuDOXcMAnKlTgXXK</td>\n",
       "      <td>https://api.spotify.com/v1/tracks/696DnlkuDOXc...</td>\n",
       "      <td>https://api.spotify.com/v1/audio-analysis/696D...</td>\n",
       "      <td>163636</td>\n",
       "      <td>5</td>\n",
       "    </tr>\n",
       "    <tr>\n",
       "      <td>4</td>\n",
       "      <td>Billie Eilish</td>\n",
       "      <td>everything i wanted</td>\n",
       "      <td>3ZCTVFBt2Brf31RLEnCkWJ</td>\n",
       "      <td>98</td>\n",
       "      <td>0.704</td>\n",
       "      <td>0.225</td>\n",
       "      <td>6</td>\n",
       "      <td>-14.454</td>\n",
       "      <td>0</td>\n",
       "      <td>0.0994</td>\n",
       "      <td>...</td>\n",
       "      <td>0.657000</td>\n",
       "      <td>0.1060</td>\n",
       "      <td>0.2430</td>\n",
       "      <td>120.006</td>\n",
       "      <td>audio_features</td>\n",
       "      <td>spotify:track:3ZCTVFBt2Brf31RLEnCkWJ</td>\n",
       "      <td>https://api.spotify.com/v1/tracks/3ZCTVFBt2Brf...</td>\n",
       "      <td>https://api.spotify.com/v1/audio-analysis/3ZCT...</td>\n",
       "      <td>245426</td>\n",
       "      <td>4</td>\n",
       "    </tr>\n",
       "  </tbody>\n",
       "</table>\n",
       "<p>5 rows × 21 columns</p>\n",
       "</div>"
      ],
      "text/plain": [
       "      artist_name                                track_name  \\\n",
       "0     Post Malone                                   Circles   \n",
       "1    Travis Scott                       HIGHEST IN THE ROOM   \n",
       "2      Juice WRLD  Bandit (with YoungBoy Never Broke Again)   \n",
       "3  Arizona Zervas                                   ROXANNE   \n",
       "4   Billie Eilish                       everything i wanted   \n",
       "\n",
       "                 track_id  popularity  danceability  energy  key  loudness  \\\n",
       "0  21jGcNKet2qwijlDFuPiPb          99         0.695   0.762    0    -3.497   \n",
       "1  3eekarcy7kvN4yt5ZFzltW          97         0.598   0.427    7    -8.764   \n",
       "2  6Gg1gjgKi2AK4e0qzsR7sd          94         0.474   0.631    5    -5.884   \n",
       "3  696DnlkuDOXcMAnKlTgXXK          97         0.621   0.601    6    -5.616   \n",
       "4  3ZCTVFBt2Brf31RLEnCkWJ          98         0.704   0.225    6   -14.454   \n",
       "\n",
       "   mode  speechiness  ...  instrumentalness  liveness  valence    tempo  \\\n",
       "0     1       0.0395  ...          0.002440    0.0863   0.5530  120.042   \n",
       "1     0       0.0317  ...          0.000006    0.2100   0.0605   76.469   \n",
       "2     0       0.3430  ...          0.000000    0.1320   0.4250  180.051   \n",
       "3     0       0.1480  ...          0.000000    0.4600   0.4570  116.735   \n",
       "4     0       0.0994  ...          0.657000    0.1060   0.2430  120.006   \n",
       "\n",
       "             type                                   uri  \\\n",
       "0  audio_features  spotify:track:21jGcNKet2qwijlDFuPiPb   \n",
       "1  audio_features  spotify:track:3eekarcy7kvN4yt5ZFzltW   \n",
       "2  audio_features  spotify:track:6Gg1gjgKi2AK4e0qzsR7sd   \n",
       "3  audio_features  spotify:track:696DnlkuDOXcMAnKlTgXXK   \n",
       "4  audio_features  spotify:track:3ZCTVFBt2Brf31RLEnCkWJ   \n",
       "\n",
       "                                          track_href  \\\n",
       "0  https://api.spotify.com/v1/tracks/21jGcNKet2qw...   \n",
       "1  https://api.spotify.com/v1/tracks/3eekarcy7kvN...   \n",
       "2  https://api.spotify.com/v1/tracks/6Gg1gjgKi2AK...   \n",
       "3  https://api.spotify.com/v1/tracks/696DnlkuDOXc...   \n",
       "4  https://api.spotify.com/v1/tracks/3ZCTVFBt2Brf...   \n",
       "\n",
       "                                        analysis_url duration_ms  \\\n",
       "0  https://api.spotify.com/v1/audio-analysis/21jG...      215280   \n",
       "1  https://api.spotify.com/v1/audio-analysis/3eek...      175721   \n",
       "2  https://api.spotify.com/v1/audio-analysis/6Gg1...      189323   \n",
       "3  https://api.spotify.com/v1/audio-analysis/696D...      163636   \n",
       "4  https://api.spotify.com/v1/audio-analysis/3ZCT...      245426   \n",
       "\n",
       "   time_signature  \n",
       "0               4  \n",
       "1               4  \n",
       "2               4  \n",
       "3               5  \n",
       "4               4  \n",
       "\n",
       "[5 rows x 21 columns]"
      ]
     },
     "execution_count": 14,
     "metadata": {},
     "output_type": "execute_result"
    }
   ],
   "source": [
    "complete_df = pd.merge(tracks_df,df_audio_features,on='track_id',how='inner')\n",
    "complete_df.head()"
   ]
  },
  {
   "cell_type": "code",
   "execution_count": 15,
   "metadata": {},
   "outputs": [
    {
     "data": {
      "text/plain": [
       "(9259, 21)"
      ]
     },
     "execution_count": 15,
     "metadata": {},
     "output_type": "execute_result"
    }
   ],
   "source": [
    "complete_df.shape"
   ]
  },
  {
   "cell_type": "markdown",
   "metadata": {},
   "source": [
    "### 1.6 Extracting the most popular 150 tracks"
   ]
  },
  {
   "cell_type": "code",
   "execution_count": 16,
   "metadata": {},
   "outputs": [
    {
     "data": {
      "text/html": [
       "<div>\n",
       "<style scoped>\n",
       "    .dataframe tbody tr th:only-of-type {\n",
       "        vertical-align: middle;\n",
       "    }\n",
       "\n",
       "    .dataframe tbody tr th {\n",
       "        vertical-align: top;\n",
       "    }\n",
       "\n",
       "    .dataframe thead th {\n",
       "        text-align: right;\n",
       "    }\n",
       "</style>\n",
       "<table border=\"1\" class=\"dataframe\">\n",
       "  <thead>\n",
       "    <tr style=\"text-align: right;\">\n",
       "      <th></th>\n",
       "      <th>artist_name</th>\n",
       "      <th>track_name</th>\n",
       "      <th>track_id</th>\n",
       "      <th>popularity</th>\n",
       "      <th>danceability</th>\n",
       "      <th>energy</th>\n",
       "      <th>key</th>\n",
       "      <th>loudness</th>\n",
       "      <th>mode</th>\n",
       "      <th>speechiness</th>\n",
       "      <th>...</th>\n",
       "      <th>instrumentalness</th>\n",
       "      <th>liveness</th>\n",
       "      <th>valence</th>\n",
       "      <th>tempo</th>\n",
       "      <th>type</th>\n",
       "      <th>uri</th>\n",
       "      <th>track_href</th>\n",
       "      <th>analysis_url</th>\n",
       "      <th>duration_ms</th>\n",
       "      <th>time_signature</th>\n",
       "    </tr>\n",
       "  </thead>\n",
       "  <tbody>\n",
       "    <tr>\n",
       "      <td>8</td>\n",
       "      <td>Maroon 5</td>\n",
       "      <td>Memories</td>\n",
       "      <td>2b8fOow8UzyDFAE27YhOZM</td>\n",
       "      <td>100</td>\n",
       "      <td>0.764</td>\n",
       "      <td>0.320</td>\n",
       "      <td>11</td>\n",
       "      <td>-7.209</td>\n",
       "      <td>1</td>\n",
       "      <td>0.0546</td>\n",
       "      <td>...</td>\n",
       "      <td>0.000000</td>\n",
       "      <td>0.0822</td>\n",
       "      <td>0.5750</td>\n",
       "      <td>91.019</td>\n",
       "      <td>audio_features</td>\n",
       "      <td>spotify:track:2b8fOow8UzyDFAE27YhOZM</td>\n",
       "      <td>https://api.spotify.com/v1/tracks/2b8fOow8UzyD...</td>\n",
       "      <td>https://api.spotify.com/v1/audio-analysis/2b8f...</td>\n",
       "      <td>189486</td>\n",
       "      <td>4</td>\n",
       "    </tr>\n",
       "    <tr>\n",
       "      <td>0</td>\n",
       "      <td>Post Malone</td>\n",
       "      <td>Circles</td>\n",
       "      <td>21jGcNKet2qwijlDFuPiPb</td>\n",
       "      <td>99</td>\n",
       "      <td>0.695</td>\n",
       "      <td>0.762</td>\n",
       "      <td>0</td>\n",
       "      <td>-3.497</td>\n",
       "      <td>1</td>\n",
       "      <td>0.0395</td>\n",
       "      <td>...</td>\n",
       "      <td>0.002440</td>\n",
       "      <td>0.0863</td>\n",
       "      <td>0.5530</td>\n",
       "      <td>120.042</td>\n",
       "      <td>audio_features</td>\n",
       "      <td>spotify:track:21jGcNKet2qwijlDFuPiPb</td>\n",
       "      <td>https://api.spotify.com/v1/tracks/21jGcNKet2qw...</td>\n",
       "      <td>https://api.spotify.com/v1/audio-analysis/21jG...</td>\n",
       "      <td>215280</td>\n",
       "      <td>4</td>\n",
       "    </tr>\n",
       "    <tr>\n",
       "      <td>16</td>\n",
       "      <td>Tones and I</td>\n",
       "      <td>Dance Monkey</td>\n",
       "      <td>2XU0oxnq2qxCpomAAuJY8K</td>\n",
       "      <td>99</td>\n",
       "      <td>0.824</td>\n",
       "      <td>0.588</td>\n",
       "      <td>6</td>\n",
       "      <td>-6.400</td>\n",
       "      <td>0</td>\n",
       "      <td>0.0924</td>\n",
       "      <td>...</td>\n",
       "      <td>0.000104</td>\n",
       "      <td>0.1490</td>\n",
       "      <td>0.5130</td>\n",
       "      <td>98.027</td>\n",
       "      <td>audio_features</td>\n",
       "      <td>spotify:track:2XU0oxnq2qxCpomAAuJY8K</td>\n",
       "      <td>https://api.spotify.com/v1/tracks/2XU0oxnq2qxC...</td>\n",
       "      <td>https://api.spotify.com/v1/audio-analysis/2XU0...</td>\n",
       "      <td>209438</td>\n",
       "      <td>4</td>\n",
       "    </tr>\n",
       "    <tr>\n",
       "      <td>4</td>\n",
       "      <td>Billie Eilish</td>\n",
       "      <td>everything i wanted</td>\n",
       "      <td>3ZCTVFBt2Brf31RLEnCkWJ</td>\n",
       "      <td>98</td>\n",
       "      <td>0.704</td>\n",
       "      <td>0.225</td>\n",
       "      <td>6</td>\n",
       "      <td>-14.454</td>\n",
       "      <td>0</td>\n",
       "      <td>0.0994</td>\n",
       "      <td>...</td>\n",
       "      <td>0.657000</td>\n",
       "      <td>0.1060</td>\n",
       "      <td>0.2430</td>\n",
       "      <td>120.006</td>\n",
       "      <td>audio_features</td>\n",
       "      <td>spotify:track:3ZCTVFBt2Brf31RLEnCkWJ</td>\n",
       "      <td>https://api.spotify.com/v1/tracks/3ZCTVFBt2Brf...</td>\n",
       "      <td>https://api.spotify.com/v1/audio-analysis/3ZCT...</td>\n",
       "      <td>245426</td>\n",
       "      <td>4</td>\n",
       "    </tr>\n",
       "    <tr>\n",
       "      <td>5</td>\n",
       "      <td>Selena Gomez</td>\n",
       "      <td>Lose You To Love Me</td>\n",
       "      <td>1HfMVBKM75vxSfsQ5VefZ5</td>\n",
       "      <td>98</td>\n",
       "      <td>0.505</td>\n",
       "      <td>0.340</td>\n",
       "      <td>4</td>\n",
       "      <td>-9.005</td>\n",
       "      <td>1</td>\n",
       "      <td>0.0438</td>\n",
       "      <td>...</td>\n",
       "      <td>0.000000</td>\n",
       "      <td>0.2100</td>\n",
       "      <td>0.0916</td>\n",
       "      <td>101.993</td>\n",
       "      <td>audio_features</td>\n",
       "      <td>spotify:track:1HfMVBKM75vxSfsQ5VefZ5</td>\n",
       "      <td>https://api.spotify.com/v1/tracks/1HfMVBKM75vx...</td>\n",
       "      <td>https://api.spotify.com/v1/audio-analysis/1HfM...</td>\n",
       "      <td>206459</td>\n",
       "      <td>4</td>\n",
       "    </tr>\n",
       "  </tbody>\n",
       "</table>\n",
       "<p>5 rows × 21 columns</p>\n",
       "</div>"
      ],
      "text/plain": [
       "      artist_name           track_name                track_id  popularity  \\\n",
       "8        Maroon 5             Memories  2b8fOow8UzyDFAE27YhOZM         100   \n",
       "0     Post Malone              Circles  21jGcNKet2qwijlDFuPiPb          99   \n",
       "16    Tones and I         Dance Monkey  2XU0oxnq2qxCpomAAuJY8K          99   \n",
       "4   Billie Eilish  everything i wanted  3ZCTVFBt2Brf31RLEnCkWJ          98   \n",
       "5    Selena Gomez  Lose You To Love Me  1HfMVBKM75vxSfsQ5VefZ5          98   \n",
       "\n",
       "    danceability  energy  key  loudness  mode  speechiness  ...  \\\n",
       "8          0.764   0.320   11    -7.209     1       0.0546  ...   \n",
       "0          0.695   0.762    0    -3.497     1       0.0395  ...   \n",
       "16         0.824   0.588    6    -6.400     0       0.0924  ...   \n",
       "4          0.704   0.225    6   -14.454     0       0.0994  ...   \n",
       "5          0.505   0.340    4    -9.005     1       0.0438  ...   \n",
       "\n",
       "    instrumentalness  liveness  valence    tempo            type  \\\n",
       "8           0.000000    0.0822   0.5750   91.019  audio_features   \n",
       "0           0.002440    0.0863   0.5530  120.042  audio_features   \n",
       "16          0.000104    0.1490   0.5130   98.027  audio_features   \n",
       "4           0.657000    0.1060   0.2430  120.006  audio_features   \n",
       "5           0.000000    0.2100   0.0916  101.993  audio_features   \n",
       "\n",
       "                                     uri  \\\n",
       "8   spotify:track:2b8fOow8UzyDFAE27YhOZM   \n",
       "0   spotify:track:21jGcNKet2qwijlDFuPiPb   \n",
       "16  spotify:track:2XU0oxnq2qxCpomAAuJY8K   \n",
       "4   spotify:track:3ZCTVFBt2Brf31RLEnCkWJ   \n",
       "5   spotify:track:1HfMVBKM75vxSfsQ5VefZ5   \n",
       "\n",
       "                                           track_href  \\\n",
       "8   https://api.spotify.com/v1/tracks/2b8fOow8UzyD...   \n",
       "0   https://api.spotify.com/v1/tracks/21jGcNKet2qw...   \n",
       "16  https://api.spotify.com/v1/tracks/2XU0oxnq2qxC...   \n",
       "4   https://api.spotify.com/v1/tracks/3ZCTVFBt2Brf...   \n",
       "5   https://api.spotify.com/v1/tracks/1HfMVBKM75vx...   \n",
       "\n",
       "                                         analysis_url duration_ms  \\\n",
       "8   https://api.spotify.com/v1/audio-analysis/2b8f...      189486   \n",
       "0   https://api.spotify.com/v1/audio-analysis/21jG...      215280   \n",
       "16  https://api.spotify.com/v1/audio-analysis/2XU0...      209438   \n",
       "4   https://api.spotify.com/v1/audio-analysis/3ZCT...      245426   \n",
       "5   https://api.spotify.com/v1/audio-analysis/1HfM...      206459   \n",
       "\n",
       "    time_signature  \n",
       "8                4  \n",
       "0                4  \n",
       "16               4  \n",
       "4                4  \n",
       "5                4  \n",
       "\n",
       "[5 rows x 21 columns]"
      ]
     },
     "execution_count": 16,
     "metadata": {},
     "output_type": "execute_result"
    }
   ],
   "source": [
    "popular_df = complete_df.sort_values('popularity', ascending = False).head(100)\n",
    "popular_df.head(5)"
   ]
  },
  {
   "cell_type": "code",
   "execution_count": 17,
   "metadata": {},
   "outputs": [],
   "source": [
    "# Dropping columns that are not required for further analysis\n",
    "popular_df.drop(['mode','type'], axis=1,inplace=True)"
   ]
  },
  {
   "cell_type": "markdown",
   "metadata": {},
   "source": [
    "#### Here are some of the most freuqently appearing artist in the list of most popular tracks."
   ]
  },
  {
   "cell_type": "code",
   "execution_count": 18,
   "metadata": {},
   "outputs": [
    {
     "data": {
      "text/plain": [
       "Post Malone      8\n",
       "Billie Eilish    4\n",
       "Taylor Swift     3\n",
       "Ariana Grande    3\n",
       "Ed Sheeran       3\n",
       "Name: artist_name, dtype: int64"
      ]
     },
     "execution_count": 18,
     "metadata": {},
     "output_type": "execute_result"
    }
   ],
   "source": [
    "popular_df['artist_name'].value_counts().head()"
   ]
  },
  {
   "cell_type": "markdown",
   "metadata": {},
   "source": [
    "# 2. Analysis & Visualization\n",
    "![alt text](https://media.giphy.com/media/mG1MxDDEMSAVkF7da3/giphy.gif)"
   ]
  },
  {
   "cell_type": "code",
   "execution_count": 19,
   "metadata": {},
   "outputs": [],
   "source": [
    "import matplotlib.pyplot as plt\n",
    "import seaborn as sns"
   ]
  },
  {
   "cell_type": "markdown",
   "metadata": {},
   "source": [
    "From the Spotiyf API data, this is the description of song's audio features. \n",
    "*  **duration**: The duration of the track\n",
    "* **key**: The estimated overall key of the track(e.g. 0 = C, 1 = C♯/D♭, 2 = D, and so on)\n",
    "* **mode**: Mode indicates the modality (major or minor) of a track (Major is represented by 1 and minor is 0)\n",
    "* **time_signature**: An estimated overall time signature of a track( how many beats are in each bar)\n",
    "* **acousticness**: A confidence measure from 0.0 to 1.0 of whether the track is acoustic.(Songs with high 'acousticness' will consist mostly of natural acoustic sounds (think acoustic guitar, piano, orchestra, the unprocessed human voice), while songs with a low 'acousticness' will consists of mostly electric sounds (think electric guitars, synthesizers, drum machines, auto-tuned vocals and so on)\n",
    "* **danceability**: Danceability describes how suitable a track is for dancing based on a combination of musical elements including tempo, rhythm stability, beat strength, and overall regularity. (0.0 is least danceable and 1.0 is most danceable.)\n",
    "* **energy**: Energy is a measure from 0.0 to 1.0 and represents a perceptual measure of intensity and activity. Typically, energetic tracks feel fast, loud, and noisy.\n",
    "* **instrumentalness**: Predicts whether a track contains no vocals.\n",
    "* **liveness**: Detects the presence of an audience in the recording. \n",
    "* **loudness**: The overall loudness of a track in decibels (dB).\n",
    "* **speechiness** :Speechiness detects the presence of spoken words in a track\n",
    "* **valence**: A measure from 0.0 to 1.0 describing the musical positiveness conveyed by a track.(Tracks with high valence sound more positive. For example, happy, cheerful and euphoric.)\n",
    "* **tempo**: The overall estimated tempo of a track in beats per minute (BPM)\n",
    "\n",
    "(Source: Spotify for Develper API. https://developer.spotify.com/documentation/web-api/reference/tracks/get-audio-features/)"
   ]
  },
  {
   "cell_type": "markdown",
   "metadata": {},
   "source": [
    "### 2.1  Finding the most common length for popular tracks"
   ]
  },
  {
   "cell_type": "code",
   "execution_count": 20,
   "metadata": {},
   "outputs": [
    {
     "data": {
      "text/plain": [
       "<matplotlib.axes._subplots.AxesSubplot at 0x1db740afbc8>"
      ]
     },
     "execution_count": 20,
     "metadata": {},
     "output_type": "execute_result"
    },
    {
     "data": {
      "image/png": "[encoded data removed]",
      "text/plain": [
       "<Figure size 1080x288 with 1 Axes>"
      ]
     },
     "metadata": {
      "needs_background": "light"
     },
     "output_type": "display_data"
    }
   ],
   "source": [
    "f, axes = plt.subplots(1, 1, sharey=True, figsize=(15, 4))\n",
    "\n",
    "sns.distplot(complete_df['duration_ms'], ax=axes, color='green')"
   ]
  },
  {
   "cell_type": "markdown",
   "metadata": {},
   "source": [
    "> ### From the above visualization, we can strongly assert that most songs are arounf 200 seconds i.e. close to 3:20 - 3.30 minute mark. \n",
    "> ### This gives us ingredient number one of making a hit song: _Keep duration of song around 3:20 minutes._"
   ]
  },
  {
   "cell_type": "markdown",
   "metadata": {},
   "source": [
    "### 2.2 Finding trends in audio features among popular songs"
   ]
  },
  {
   "cell_type": "code",
   "execution_count": 21,
   "metadata": {},
   "outputs": [
    {
     "data": {
      "image/png": "[encoded data removed]",
      "text/plain": [
       "<Figure size 1080x288 with 3 Axes>"
      ]
     },
     "metadata": {
      "needs_background": "light"
     },
     "output_type": "display_data"
    },
    {
     "data": {
      "image/png": "[encoded data removed]",
      "text/plain": [
       "<Figure size 1080x288 with 3 Axes>"
      ]
     },
     "metadata": {
      "needs_background": "light"
     },
     "output_type": "display_data"
    },
    {
     "data": {
      "image/png": "[encoded data removed]",
      "text/plain": [
       "<Figure size 1080x288 with 3 Axes>"
      ]
     },
     "metadata": {
      "needs_background": "light"
     },
     "output_type": "display_data"
    }
   ],
   "source": [
    "f, axes = plt.subplots(1, 3, sharey=True, figsize=(15, 4))\n",
    "\n",
    "#sns.distplot(popular_df['energy'], ax=axes[0])\n",
    "#sns.distplot(popular_df['norm_tempo'], ax=axes[2]) \n",
    "\n",
    "sns.distplot(popular_df['valence'], ax=axes[0])\n",
    "sns.distplot(popular_df['danceability'], ax=axes[1])\n",
    "sns.distplot(popular_df['loudness'], ax=axes[2])\n",
    "\n",
    "f, axes = plt.subplots(1, 3, sharey=True, figsize=(15, 4))\n",
    "sns.distplot(popular_df['acousticness'], ax=axes[0])\n",
    "sns.distplot(popular_df['energy'], ax=axes[1])\n",
    "sns.distplot(popular_df['liveness'], ax=axes[2])\n",
    "\n",
    "f, axes = plt.subplots(1, 3, sharey=True, figsize=(15, 4))\n",
    "sns.distplot(popular_df['speechiness'], ax=axes[0])\n",
    "sns.distplot(popular_df['instrumentalness'], ax=axes[1])\n",
    "sns.distplot(popular_df['popularity'], ax=axes[2]) \n",
    "plt.show()"
   ]
  },
  {
   "cell_type": "markdown",
   "metadata": {},
   "source": [
    "> #### Key notes from the above visualization:\n",
    "> #### 1) Most of the popular songs are high on enerygy, danceability and valence.\n",
    "> #### 2) Most of the popular songs are low on liveness, instrumentalness, speechiness and acousticness."
   ]
  },
  {
   "cell_type": "markdown",
   "metadata": {},
   "source": [
    "### 2.3 Visualizing the average audio features of popular songs on a radar chart"
   ]
  },
  {
   "cell_type": "code",
   "execution_count": 22,
   "metadata": {},
   "outputs": [
    {
     "ename": "ModuleNotFoundError",
     "evalue": "No module named 'chart_studio'",
     "output_type": "error",
     "traceback": [
      "\u001b[1;31m---------------------------------------------------------------------------\u001b[0m",
      "\u001b[1;31mModuleNotFoundError\u001b[0m                       Traceback (most recent call last)",
      "\u001b[1;32m<ipython-input-22-6382a404944e>\u001b[0m in \u001b[0;36m<module>\u001b[1;34m\u001b[0m\n\u001b[0;32m      6\u001b[0m \u001b[0mvalence_avg\u001b[0m \u001b[1;33m=\u001b[0m\u001b[0mpopular_df\u001b[0m\u001b[1;33m[\u001b[0m\u001b[1;34m'valence'\u001b[0m\u001b[1;33m]\u001b[0m\u001b[1;33m.\u001b[0m\u001b[0mmean\u001b[0m\u001b[1;33m(\u001b[0m\u001b[1;33m)\u001b[0m\u001b[1;33m\u001b[0m\u001b[1;33m\u001b[0m\u001b[0m\n\u001b[0;32m      7\u001b[0m \u001b[1;33m\u001b[0m\u001b[0m\n\u001b[1;32m----> 8\u001b[1;33m \u001b[1;32mimport\u001b[0m \u001b[0mchart_studio\u001b[0m\u001b[1;33m.\u001b[0m\u001b[0mplotly\u001b[0m \u001b[1;32mas\u001b[0m \u001b[0mpy\u001b[0m\u001b[1;33m\u001b[0m\u001b[1;33m\u001b[0m\u001b[0m\n\u001b[0m\u001b[0;32m      9\u001b[0m \u001b[1;32mimport\u001b[0m \u001b[0mplotly\u001b[0m\u001b[1;33m.\u001b[0m\u001b[0mgraph_objs\u001b[0m \u001b[1;32mas\u001b[0m \u001b[0mgo\u001b[0m\u001b[1;33m\u001b[0m\u001b[1;33m\u001b[0m\u001b[0m\n\u001b[0;32m     10\u001b[0m \u001b[1;32mfrom\u001b[0m \u001b[0mplotly\u001b[0m\u001b[1;33m.\u001b[0m\u001b[0moffline\u001b[0m \u001b[1;32mimport\u001b[0m \u001b[1;33m*\u001b[0m\u001b[1;33m\u001b[0m\u001b[1;33m\u001b[0m\u001b[0m\n",
      "\u001b[1;31mModuleNotFoundError\u001b[0m: No module named 'chart_studio'"
     ]
    }
   ],
   "source": [
    "dance_avg = popular_df['danceability'].mean()\n",
    "speech_avg =popular_df['speechiness'].mean()\n",
    "acoustic_avg =popular_df['acousticness'].mean()\n",
    "energy_avg =popular_df['energy'].mean()\n",
    "liveness_avg =popular_df['liveness'].mean()\n",
    "valence_avg =popular_df['valence'].mean()\n",
    "\n",
    "import chart_studio.plotly as py\n",
    "import plotly.graph_objs as go\n",
    "from plotly.offline import *\n",
    "\n",
    "data6 = [go.Scatterpolar(\n",
    "  r = [valence_avg, dance_avg, acoustic_avg, energy_avg, speech_avg, liveness_avg],\n",
    "  theta = ['Valence','Danceability','Acousticness', 'Energy', 'Speechiness','Liveness'],\n",
    "  fill = 'toself',\n",
    "    name = 'hey'\n",
    ")]\n",
    "\n",
    "layout = go.Layout(\n",
    "  polar = dict(\n",
    "    radialaxis = dict(\n",
    "      visible = True,\n",
    "      range = [0.00, 1.00]\n",
    ")\n",
    "  ),\n",
    "  showlegend = False\n",
    ")\n",
    "\n",
    "fig = go.Figure(data=data6, layout=layout)\n",
    "fig.show()\n",
    "#py.iplot(fig, filename = \"basic_radar\")"
   ]
  },
  {
   "cell_type": "markdown",
   "metadata": {},
   "source": [
    "### 2.4 What are the correlations amongst the song attributes?"
   ]
  },
  {
   "cell_type": "code",
   "execution_count": null,
   "metadata": {
    "scrolled": true
   },
   "outputs": [],
   "source": [
    "import seaborn as sns   \n",
    "attributes=df[['danceability','energy','liveness',\n",
    "             'acousticness','loudness','speechiness',\n",
    "             'valence','tempo','duration_ms']]\n",
    "attributes.head()\n",
    "corr=attributes.corr()\n",
    "ax = plt.figure(figsize=(10,10))\n",
    "sns.heatmap(corr,annot=True,xticklabels=corr.columns.values,yticklabels=corr.columns.values)\n",
    "plt.title(\"Correlation of Song Attributes\",size=15)\n",
    "plt.show(\"Correlation of Song Attributes\")"
   ]
  },
  {
   "cell_type": "markdown",
   "metadata": {},
   "source": [
    "> ### The attribute 'energy' and 'valence' are strongly positive correlated.  The 'acousticness' and 'valence' are highly negative correlated. Since from our above analysis, we asserted most of the popular songs have high energy and valence, this conclusion fits well in the picture. \n",
    "> ### Moreover Speech and Liveness also have a strong correlation. \n",
    "> ### This suggests us that the features that makes songs more popular or doesn't go hand in hand. This can help an artist looking to make a hit  to not worry about all the parameters as some of them takes care of others along with them.\n"
   ]
  },
  {
   "cell_type": "markdown",
   "metadata": {},
   "source": [
    "## 3. Song Recommendation System\n"
   ]
  },
  {
   "cell_type": "markdown",
   "metadata": {},
   "source": [
    "### Now we move towards creating a song recommendation system based on similarity between audio features."
   ]
  },
  {
   "cell_type": "code",
   "execution_count": null,
   "metadata": {},
   "outputs": [],
   "source": [
    "# Import necessary module\n",
    "import numpy as np\n",
    "import pandas as pd\n",
    "from sklearn import preprocessing"
   ]
  },
  {
   "cell_type": "markdown",
   "metadata": {},
   "source": [
    "### 3.1 Standarize the value of each character we selected as recommendation factor"
   ]
  },
  {
   "cell_type": "code",
   "execution_count": null,
   "metadata": {},
   "outputs": [],
   "source": [
    "# we use sklearn.preprocessing package to standarize our data \n",
    "S = preprocessing.StandardScaler(with_mean=True, with_std=True)\n",
    "# Transforming our data\n",
    "features = ['acousticness', 'danceability', 'duration_ms', 'energy',\n",
    "       'instrumentalness', 'liveness', 'loudness', 'speechiness', 'tempo', 'valence']\n",
    "df_trans = S.fit_transform(df[features])\n",
    "df_trans = pd.DataFrame(df_trans, columns=features)\n",
    "df_trans['track_name']=df['track_name']\n",
    "df_trans['artist_name']=df['artist_name']\n"
   ]
  },
  {
   "cell_type": "markdown",
   "metadata": {},
   "source": [
    "### 3.2 Define the recoomendation system's fuction"
   ]
  },
  {
   "cell_type": "code",
   "execution_count": null,
   "metadata": {},
   "outputs": [],
   "source": [
    "def recommendation(track_name,artist_name):\n",
    "    target_song_df = df_trans.loc[ df_trans['track_name'] == track_name] \n",
    "    target_row = target_song_df.loc[ target_song_df['artist_name'] == artist_name] \n",
    "    \n",
    "    # Find the song characteristics of song selected\n",
    "    acousticness = target_row.iloc[0]['acousticness'] \n",
    "    danceability = target_row.iloc[0]['danceability']\n",
    "    instrumentalness = target_row.iloc[0]['instrumentalness'] \n",
    "    duration_ms = target_row.iloc[0]['duration_ms'] \n",
    "    energy = target_row.iloc[0]['energy'] \n",
    "    liveness = target_row.iloc[0]['liveness']\n",
    "    loudness = target_row.iloc[0]['loudness'] \n",
    "    speechiness = target_row.iloc[0]['speechiness'] \n",
    "    tempo = target_row.iloc[0]['tempo'] \n",
    "    valence = target_row.iloc[0]['valence']\n",
    "    \n",
    "    # print target song characteristics \n",
    "    for col in list(target_row)[::-1]:\n",
    "        try:\n",
    "            print(\" \",col,\" \"*(30-len(col)),round(target_row.iloc[0][col],3))\n",
    "        except:\n",
    "            print(\" \",col,\" \"*(30-len(col)),target_row.iloc[0][col])\n",
    "\n",
    "    # Calculate the similarity of songs in database with our selected songs \n",
    "    df_trans['similarity'] = abs(df_trans['acousticness'] - acousticness) + abs(df_trans['danceability'] - danceability)\n",
    "    + abs(df_trans['duration_ms'] - duration_ms) + abs(df_trans['energy'] - energy) + abs(df_trans['instrumentalness'] - instrumentalness) \n",
    "    + abs(df_trans['liveness'] - liveness) + abs(df_trans['loudness'] - loudness)\n",
    "    + abs(df_trans['tempo'] - tempo) + abs(df_trans['speechiness'] - speechiness) + abs(df_trans['valence'] - valence)   \n",
    "    \n",
    "    # find the top 5 similar songs\n",
    "    df_sims = df_trans[df_trans.track_name != track_name].nsmallest(5, 'similarity')\n",
    "    print(\"\\n  Top 5 Songs recommended because you love\",track_name,\"by\",artist_name,\"\\n\")\n",
    "    score = 1\n",
    "    for ind, row in df_sims.iterrows():\n",
    "        print(\"   \",score,row['track_name'],\"-\",row['artist_name'])\n",
    "        score+=1\n",
    "    print()\n",
    "    "
   ]
  },
  {
   "cell_type": "markdown",
   "metadata": {},
   "source": [
    "### 3.3 Test of Recommendation System"
   ]
  },
  {
   "cell_type": "markdown",
   "metadata": {},
   "source": [
    "Let try it!  My favorite song is **Hey Jude** by **The Beatles**. Let see what will the system recommend!!!"
   ]
  },
  {
   "cell_type": "code",
   "execution_count": null,
   "metadata": {
    "scrolled": true
   },
   "outputs": [],
   "source": [
    "recommendation('Hey Jude','The Beatles')"
   ]
  },
  {
   "cell_type": "markdown",
   "metadata": {},
   "source": [
    "# 4. Conclusion"
   ]
  },
  {
   "cell_type": "markdown",
   "metadata": {},
   "source": [
    "### We found some pretty cool results through out analysis. This is the secret recipe for making a hit song! A quick recall of out results:\n",
    "> #### To make a song popular, make sure time duration sticks aroung 3:20 - 3:30 minutes. \n",
    "> #### Make a song danceable and energetic.\n",
    "> #### Don't make it too wordy as most of the popular songs are low on speechness.\n",
    "> #### Record in a studio instead of in a presence of live audience as popular songs are low on liveness feature."
   ]
  },
  {
   "cell_type": "markdown",
   "metadata": {},
   "source": [
    "### Now the only thing that you need to make a hit song is a good voice and some artistic talent. Good luck with that!\n",
    "![alt text](https://media.giphy.com/media/5y7gTbzrGK7QY/giphy.gif)"
   ]
  },
  {
   "cell_type": "markdown",
   "metadata": {},
   "source": [
    "# Further work\n",
    "\n",
    "#### In future, we plan to analyse where the popular songs of current time stand with those of past. Does the same features made song popular in the past that make songs popular in present? We would also love to find how diversity of music is affected by popular songs with time."
   ]
  },
  {
   "cell_type": "markdown",
   "metadata": {},
   "source": [
    "# Thank You! Happy Listening!\n",
    "![alt text](https://media.tenor.com/images/cc0d2d9170144cfb79a6c8e2aa270aa0/tenor.gif \"Logo Title Text 1\")"
   ]
  }
 ],
 "metadata": {
  "kernelspec": {
   "display_name": "Python 3",
   "language": "python",
   "name": "python3"
  },
  "language_info": {
   "codemirror_mode": {
    "name": "ipython",
    "version": 3
   },
   "file_extension": ".py",
   "mimetype": "text/x-python",
   "name": "python",
   "nbconvert_exporter": "python",
   "pygments_lexer": "ipython3",
   "version": "3.7.3"
  },
  "widgets": {
   "application/vnd.jupyter.widget-state+json": {
    "state": {},
    "version_major": 2,
    "version_minor": 0
   }
  }
 },
 "nbformat": 4,
 "nbformat_minor": 2
}
