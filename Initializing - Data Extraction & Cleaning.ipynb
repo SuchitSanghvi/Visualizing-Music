{
 "cells": [
  {
   "cell_type": "markdown",
   "metadata": {},
   "source": [
    "# Visualizing Music! - Data Extraction & Cleaning"
   ]
  },
  {
   "cell_type": "markdown",
   "metadata": {},
   "source": [
    "## Data Acquisition and Cleaning Code"
   ]
  },
  {
   "cell_type": "markdown",
   "metadata": {},
   "source": [
    "I have categorized our project broadly into three categories on the basis of the dataset that we will require. Dataset pertaining to these three categories will be comprehensive to help us answer out research question.\n",
    "\n",
    "The two broad categories of dataset that we extact is: \n",
    "\n",
    "1) Top performing songs of 2019 along with their properties of each track.\n",
    "\n",
    "2) Popular songs from different ages and their listening trends for past 3 years."
   ]
  },
  {
   "cell_type": "markdown",
   "metadata": {},
   "source": [
    "In order to get access to Spotify data, we had to create a developer account, generated client id and secret code, explored various endpoints at [Spotify Web API Console](https://developer.spotify.com/console/)"
   ]
  },
  {
   "cell_type": "markdown",
   "metadata": {},
   "source": [
    "#### Here I am demonstrating how I extracted Spotify data of top songs of 2019 and extract it's features."
   ]
  },
  {
   "cell_type": "markdown",
   "metadata": {},
   "source": [
    "### Data Acquisition"
   ]
  },
  {
   "cell_type": "code",
   "execution_count": 2,
   "metadata": {},
   "outputs": [],
   "source": [
    "#Setting up Spotify API end point\n",
    "import spotipy\n",
    "\n",
    "from spotipy.oauth2 import SpotifyClientCredentials \n",
    "\n",
    "cid =\"841e0a8ce6a84bab829e9b438660e75f\" \n",
    "secret = \"f3019d467db34e3786e9204bc9d0eeb3\" \n",
    "client_credentials_manager = SpotifyClientCredentials(client_id=cid, client_secret=secret) \n",
    "\n",
    "sp = spotipy.Spotify(client_credentials_manager=client_credentials_manager)"
   ]
  },
  {
   "cell_type": "markdown",
   "metadata": {},
   "source": [
    "I would be using \"search\" method provided by Spotipy Library to extract the tracks of 2019. A sample query and output is as shown below."
   ]
  },
  {
   "cell_type": "code",
   "execution_count": 9,
   "metadata": {},
   "outputs": [
    {
     "name": "stdout",
     "output_type": "stream",
     "text": [
      "{'tracks': {'href': 'https://api.spotify.com/v1/search?query=year%3A2019&type=track&offset=0&limit=10', 'items': [{'album': {'album_type': 'single', 'artists': [{'external_urls': {'spotify': 'https://open.spotify.com/artist/0Y5tJX1MQlPlqiwlOH1tJY'}, 'href': 'https://api.spotify.com/v1/artists/0Y5tJX1MQlPlqiwlOH1tJY', 'id': '0Y5tJX1MQlPlqiwlOH1tJY', 'name': 'Travis Scott', 'type': 'artist', 'uri': 'spotify:artist:0Y5tJX1MQlPlqiwlOH1tJY'}], 'available_markets': ['AD', 'AE', 'AR', 'AT', 'AU', 'BE', 'BG', 'BH', 'BO', 'BR', 'CA', 'CH', 'CL', 'CO', 'CR', 'CY', 'CZ', 'DE', 'DK', 'DO', 'DZ', 'EC', 'EE', 'EG', 'ES', 'FI', 'FR', 'GB', 'GR', 'GT', 'HK', 'HN', 'HU', 'ID', 'IE', 'IL', 'IN', 'IS', 'IT', 'JO', 'JP', 'KW', 'LB', 'LI', 'LT', 'LU', 'LV', 'MA', 'MC', 'MT', 'MX', 'MY', 'NI', 'NL', 'NO', 'NZ', 'OM', 'PA', 'PE', 'PH', 'PL', 'PS', 'PT', 'PY', 'QA', 'RO', 'SA', 'SE', 'SG', 'SK', 'SV', 'TH', 'TN', 'TR', 'TW', 'US', 'UY', 'VN', 'ZA'], 'external_urls': {'spotify': 'https://open.spotify.com/album/2uDTi1PlpSpvAv7IRAoAEU'}, 'href': 'https://api.spotify.com/v1/albums/2uDTi1PlpSpvAv7IRAoAEU', 'id': '2uDTi1PlpSpvAv7IRAoAEU', 'images': [{'height': 640, 'url': 'https://i.scdn.co/image/e68dee85d7a026eadc5ae76e71efea0767479036', 'width': 640}, {'height': 300, 'url': 'https://i.scdn.co/image/18781a6fd88e7ad199ef9c61ce01ee78c7fcd956', 'width': 300}, {'height': 64, 'url': 'https://i.scdn.co/image/3a6a1ddb77d5886cd77768734bdca254aba7cf8b', 'width': 64}], 'name': 'HIGHEST IN THE ROOM', 'release_date': '2019-10-04', 'release_date_precision': 'day', 'total_tracks': 1, 'type': 'album', 'uri': 'spotify:album:2uDTi1PlpSpvAv7IRAoAEU'}, 'artists': [{'external_urls': {'spotify': 'https://open.spotify.com/artist/0Y5tJX1MQlPlqiwlOH1tJY'}, 'href': 'https://api.spotify.com/v1/artists/0Y5tJX1MQlPlqiwlOH1tJY', 'id': '0Y5tJX1MQlPlqiwlOH1tJY', 'name': 'Travis Scott', 'type': 'artist', 'uri': 'spotify:artist:0Y5tJX1MQlPlqiwlOH1tJY'}], 'available_markets': ['AD', 'AE', 'AR', 'AT', 'AU', 'BE', 'BG', 'BH', 'BO', 'BR', 'CA', 'CH', 'CL', 'CO', 'CR', 'CY', 'CZ', 'DE', 'DK', 'DO', 'DZ', 'EC', 'EE', 'EG', 'ES', 'FI', 'FR', 'GB', 'GR', 'GT', 'HK', 'HN', 'HU', 'ID', 'IE', 'IL', 'IN', 'IS', 'IT', 'JO', 'JP', 'KW', 'LB', 'LI', 'LT', 'LU', 'LV', 'MA', 'MC', 'MT', 'MX', 'MY', 'NI', 'NL', 'NO', 'NZ', 'OM', 'PA', 'PE', 'PH', 'PL', 'PS', 'PT', 'PY', 'QA', 'RO', 'SA', 'SE', 'SG', 'SK', 'SV', 'TH', 'TN', 'TR', 'TW', 'US', 'UY', 'VN', 'ZA'], 'disc_number': 1, 'duration_ms': 175720, 'explicit': True, 'external_ids': {'isrc': 'USSM11904276'}, 'external_urls': {'spotify': 'https://open.spotify.com/track/3eekarcy7kvN4yt5ZFzltW'}, 'href': 'https://api.spotify.com/v1/tracks/3eekarcy7kvN4yt5ZFzltW', 'id': '3eekarcy7kvN4yt5ZFzltW', 'is_local': False, 'name': 'HIGHEST IN THE ROOM', 'popularity': 99, 'preview_url': 'https://p.scdn.co/mp3-preview/d9b90990dab9d8376d05c5d4a6b7ac3e99c03763?cid=841e0a8ce6a84bab829e9b438660e75f', 'track_number': 1, 'type': 'track', 'uri': 'spotify:track:3eekarcy7kvN4yt5ZFzltW'}, {'album': {'album_type': 'album', 'artists': [{'external_urls': {'spotify': 'https://open.spotify.com/artist/246dkjvS1zLTtiykXe5h60'}, 'href': 'https://api.spotify.com/v1/artists/246dkjvS1zLTtiykXe5h60', 'id': '246dkjvS1zLTtiykXe5h60', 'name': 'Post Malone', 'type': 'artist', 'uri': 'spotify:artist:246dkjvS1zLTtiykXe5h60'}], 'available_markets': ['AD', 'AE', 'AR', 'AT', 'AU', 'BE', 'BG', 'BH', 'BO', 'BR', 'CA', 'CH', 'CL', 'CO', 'CR', 'CY', 'CZ', 'DE', 'DK', 'DO', 'DZ', 'EC', 'EE', 'EG', 'ES', 'FI', 'FR', 'GB', 'GR', 'GT', 'HK', 'HN', 'HU', 'ID', 'IE', 'IL', 'IN', 'IS', 'IT', 'JO', 'JP', 'KW', 'LB', 'LI', 'LT', 'LU', 'LV', 'MA', 'MC', 'MT', 'MX', 'MY', 'NI', 'NL', 'NO', 'NZ', 'OM', 'PA', 'PE', 'PH', 'PL', 'PS', 'PT', 'PY', 'QA', 'RO', 'SA', 'SE', 'SG', 'SK', 'SV', 'TH', 'TN', 'TR', 'TW', 'US', 'UY', 'VN', 'ZA'], 'external_urls': {'spotify': 'https://open.spotify.com/album/4g1ZRSobMefqF6nelkgibi'}, 'href': 'https://api.spotify.com/v1/albums/4g1ZRSobMefqF6nelkgibi', 'id': '4g1ZRSobMefqF6nelkgibi', 'images': [{'height': 640, 'url': 'https://i.scdn.co/image/94105e271865c28853bfb7b44b38353a2fea45d6', 'width': 640}, {'height': 300, 'url': 'https://i.scdn.co/image/e2e8a627df64b4824c9f2bb8e69e44f975200abb', 'width': 300}, {'height': 64, 'url': 'https://i.scdn.co/image/a7f2cc3d9b653ac116a3666cc3aaf01880aab8bd', 'width': 64}], 'name': \"Hollywood's Bleeding\", 'release_date': '2019-09-06', 'release_date_precision': 'day', 'total_tracks': 17, 'type': 'album', 'uri': 'spotify:album:4g1ZRSobMefqF6nelkgibi'}, 'artists': [{'external_urls': {'spotify': 'https://open.spotify.com/artist/246dkjvS1zLTtiykXe5h60'}, 'href': 'https://api.spotify.com/v1/artists/246dkjvS1zLTtiykXe5h60', 'id': '246dkjvS1zLTtiykXe5h60', 'name': 'Post Malone', 'type': 'artist', 'uri': 'spotify:artist:246dkjvS1zLTtiykXe5h60'}], 'available_markets': ['AD', 'AE', 'AR', 'AT', 'AU', 'BE', 'BG', 'BH', 'BO', 'BR', 'CA', 'CH', 'CL', 'CO', 'CR', 'CY', 'CZ', 'DE', 'DK', 'DO', 'DZ', 'EC', 'EE', 'EG', 'ES', 'FI', 'FR', 'GB', 'GR', 'GT', 'HK', 'HN', 'HU', 'ID', 'IE', 'IL', 'IN', 'IS', 'IT', 'JO', 'JP', 'KW', 'LB', 'LI', 'LT', 'LU', 'LV', 'MA', 'MC', 'MT', 'MX', 'MY', 'NI', 'NL', 'NO', 'NZ', 'OM', 'PA', 'PE', 'PH', 'PL', 'PS', 'PT', 'PY', 'QA', 'RO', 'SA', 'SE', 'SG', 'SK', 'SV', 'TH', 'TN', 'TR', 'TW', 'US', 'UY', 'VN', 'ZA'], 'disc_number': 1, 'duration_ms': 215280, 'explicit': False, 'external_ids': {'isrc': 'USUM71915699'}, 'external_urls': {'spotify': 'https://open.spotify.com/track/21jGcNKet2qwijlDFuPiPb'}, 'href': 'https://api.spotify.com/v1/tracks/21jGcNKet2qwijlDFuPiPb', 'id': '21jGcNKet2qwijlDFuPiPb', 'is_local': False, 'name': 'Circles', 'popularity': 100, 'preview_url': None, 'track_number': 6, 'type': 'track', 'uri': 'spotify:track:21jGcNKet2qwijlDFuPiPb'}, {'album': {'album_type': 'single', 'artists': [{'external_urls': {'spotify': 'https://open.spotify.com/artist/4MCBfE4596Uoi2O4DtmEMz'}, 'href': 'https://api.spotify.com/v1/artists/4MCBfE4596Uoi2O4DtmEMz', 'id': '4MCBfE4596Uoi2O4DtmEMz', 'name': 'Juice WRLD', 'type': 'artist', 'uri': 'spotify:artist:4MCBfE4596Uoi2O4DtmEMz'}, {'external_urls': {'spotify': 'https://open.spotify.com/artist/7wlFDEWiM5OoIAt8RSli8b'}, 'href': 'https://api.spotify.com/v1/artists/7wlFDEWiM5OoIAt8RSli8b', 'id': '7wlFDEWiM5OoIAt8RSli8b', 'name': 'YoungBoy Never Broke Again', 'type': 'artist', 'uri': 'spotify:artist:7wlFDEWiM5OoIAt8RSli8b'}], 'available_markets': ['AD', 'AE', 'AR', 'AT', 'AU', 'BE', 'BG', 'BH', 'BO', 'BR', 'CA', 'CH', 'CL', 'CO', 'CR', 'CY', 'CZ', 'DE', 'DK', 'DO', 'DZ', 'EC', 'EE', 'EG', 'ES', 'FI', 'FR', 'GB', 'GR', 'GT', 'HK', 'HN', 'HU', 'ID', 'IE', 'IL', 'IN', 'IS', 'IT', 'JO', 'JP', 'KW', 'LB', 'LI', 'LT', 'LU', 'LV', 'MA', 'MC', 'MT', 'MX', 'MY', 'NI', 'NL', 'NO', 'NZ', 'OM', 'PA', 'PE', 'PH', 'PL', 'PS', 'PT', 'PY', 'QA', 'RO', 'SA', 'SE', 'SG', 'SK', 'SV', 'TH', 'TN', 'TR', 'TW', 'US', 'UY', 'VN', 'ZA'], 'external_urls': {'spotify': 'https://open.spotify.com/album/3t6Z2qoBVCS4NHNI25XECH'}, 'href': 'https://api.spotify.com/v1/albums/3t6Z2qoBVCS4NHNI25XECH', 'id': '3t6Z2qoBVCS4NHNI25XECH', 'images': [{'height': 640, 'url': 'https://i.scdn.co/image/eac06170b857a4331cfe4cffc2bd6260d93f549d', 'width': 640}, {'height': 300, 'url': 'https://i.scdn.co/image/e44b8cabfba55cefd5490332cb557a9137ab8b23', 'width': 300}, {'height': 64, 'url': 'https://i.scdn.co/image/5ed52bb180bccf1adc98c1766ec13ca8d82325c5', 'width': 64}], 'name': 'Bandit (with YoungBoy Never Broke Again)', 'release_date': '2019-10-04', 'release_date_precision': 'day', 'total_tracks': 1, 'type': 'album', 'uri': 'spotify:album:3t6Z2qoBVCS4NHNI25XECH'}, 'artists': [{'external_urls': {'spotify': 'https://open.spotify.com/artist/4MCBfE4596Uoi2O4DtmEMz'}, 'href': 'https://api.spotify.com/v1/artists/4MCBfE4596Uoi2O4DtmEMz', 'id': '4MCBfE4596Uoi2O4DtmEMz', 'name': 'Juice WRLD', 'type': 'artist', 'uri': 'spotify:artist:4MCBfE4596Uoi2O4DtmEMz'}, {'external_urls': {'spotify': 'https://open.spotify.com/artist/7wlFDEWiM5OoIAt8RSli8b'}, 'href': 'https://api.spotify.com/v1/artists/7wlFDEWiM5OoIAt8RSli8b', 'id': '7wlFDEWiM5OoIAt8RSli8b', 'name': 'YoungBoy Never Broke Again', 'type': 'artist', 'uri': 'spotify:artist:7wlFDEWiM5OoIAt8RSli8b'}], 'available_markets': ['AD', 'AE', 'AR', 'AT', 'AU', 'BE', 'BG', 'BH', 'BO', 'BR', 'CA', 'CH', 'CL', 'CO', 'CR', 'CY', 'CZ', 'DE', 'DK', 'DO', 'DZ', 'EC', 'EE', 'EG', 'ES', 'FI', 'FR', 'GB', 'GR', 'GT', 'HK', 'HN', 'HU', 'ID', 'IE', 'IL', 'IN', 'IS', 'IT', 'JO', 'JP', 'KW', 'LB', 'LI', 'LT', 'LU', 'LV', 'MA', 'MC', 'MT', 'MX', 'MY', 'NI', 'NL', 'NO', 'NZ', 'OM', 'PA', 'PE', 'PH', 'PL', 'PS', 'PT', 'PY', 'QA', 'RO', 'SA', 'SE', 'SG', 'SK', 'SV', 'TH', 'TN', 'TR', 'TW', 'US', 'UY', 'VN', 'ZA'], 'disc_number': 1, 'duration_ms': 189322, 'explicit': True, 'external_ids': {'isrc': 'USUG11903492'}, 'external_urls': {'spotify': 'https://open.spotify.com/track/6Gg1gjgKi2AK4e0qzsR7sd'}, 'href': 'https://api.spotify.com/v1/tracks/6Gg1gjgKi2AK4e0qzsR7sd', 'id': '6Gg1gjgKi2AK4e0qzsR7sd', 'is_local': False, 'name': 'Bandit (with YoungBoy Never Broke Again)', 'popularity': 94, 'preview_url': None, 'track_number': 1, 'type': 'track', 'uri': 'spotify:track:6Gg1gjgKi2AK4e0qzsR7sd'}, {'album': {'album_type': 'single', 'artists': [{'external_urls': {'spotify': 'https://open.spotify.com/artist/2cFrymmkijnjDg9SS92EPM'}, 'href': 'https://api.spotify.com/v1/artists/2cFrymmkijnjDg9SS92EPM', 'id': '2cFrymmkijnjDg9SS92EPM', 'name': 'blackbear', 'type': 'artist', 'uri': 'spotify:artist:2cFrymmkijnjDg9SS92EPM'}], 'available_markets': ['AD', 'AE', 'AR', 'AT', 'AU', 'BE', 'BG', 'BH', 'BO', 'BR', 'CA', 'CH', 'CL', 'CO', 'CR', 'CY', 'CZ', 'DE', 'DK', 'DO', 'DZ', 'EC', 'EE', 'EG', 'ES', 'FI', 'FR', 'GB', 'GR', 'GT', 'HK', 'HN', 'HU', 'ID', 'IE', 'IL', 'IN', 'IS', 'IT', 'JO', 'JP', 'KW', 'LB', 'LI', 'LT', 'LU', 'LV', 'MA', 'MC', 'MT', 'MX', 'MY', 'NI', 'NL', 'NO', 'NZ', 'OM', 'PA', 'PE', 'PH', 'PL', 'PS', 'PT', 'PY', 'QA', 'RO', 'SA', 'SE', 'SG', 'SK', 'SV', 'TH', 'TN', 'TR', 'TW', 'US', 'UY', 'VN', 'ZA'], 'external_urls': {'spotify': 'https://open.spotify.com/album/37CqAwxTungNxKpIK5vSgE'}, 'href': 'https://api.spotify.com/v1/albums/37CqAwxTungNxKpIK5vSgE', 'id': '37CqAwxTungNxKpIK5vSgE', 'images': [{'height': 640, 'url': 'https://i.scdn.co/image/1986b0504c53191b9790a1f45cc402c9ba2a94d5', 'width': 640}, {'height': 300, 'url': 'https://i.scdn.co/image/8ff771fa222f059797472d8fd7fa3c29712a63b8', 'width': 300}, {'height': 64, 'url': 'https://i.scdn.co/image/fadd7552af0779e4482d253b740def73786de682', 'width': 64}], 'name': 'hot girl bummer', 'release_date': '2019-08-23', 'release_date_precision': 'day', 'total_tracks': 1, 'type': 'album', 'uri': 'spotify:album:37CqAwxTungNxKpIK5vSgE'}, 'artists': [{'external_urls': {'spotify': 'https://open.spotify.com/artist/2cFrymmkijnjDg9SS92EPM'}, 'href': 'https://api.spotify.com/v1/artists/2cFrymmkijnjDg9SS92EPM', 'id': '2cFrymmkijnjDg9SS92EPM', 'name': 'blackbear', 'type': 'artist', 'uri': 'spotify:artist:2cFrymmkijnjDg9SS92EPM'}], 'available_markets': ['AD', 'AE', 'AR', 'AT', 'AU', 'BE', 'BG', 'BH', 'BO', 'BR', 'CA', 'CH', 'CL', 'CO', 'CR', 'CY', 'CZ', 'DE', 'DK', 'DO', 'DZ', 'EC', 'EE', 'EG', 'ES', 'FI', 'FR', 'GB', 'GR', 'GT', 'HK', 'HN', 'HU', 'ID', 'IE', 'IL', 'IN', 'IS', 'IT', 'JO', 'JP', 'KW', 'LB', 'LI', 'LT', 'LU', 'LV', 'MA', 'MC', 'MT', 'MX', 'MY', 'NI', 'NL', 'NO', 'NZ', 'OM', 'PA', 'PE', 'PH', 'PL', 'PS', 'PT', 'PY', 'QA', 'RO', 'SA', 'SE', 'SG', 'SK', 'SV', 'TH', 'TN', 'TR', 'TW', 'US', 'UY', 'VN', 'ZA'], 'disc_number': 1, 'duration_ms': 185093, 'explicit': True, 'external_ids': {'isrc': 'USUG11902959'}, 'external_urls': {'spotify': 'https://open.spotify.com/track/7aiClxsDWFRQ0Kzk5KI5ku'}, 'href': 'https://api.spotify.com/v1/tracks/7aiClxsDWFRQ0Kzk5KI5ku', 'id': '7aiClxsDWFRQ0Kzk5KI5ku', 'is_local': False, 'name': 'hot girl bummer', 'popularity': 96, 'preview_url': None, 'track_number': 1, 'type': 'track', 'uri': 'spotify:track:7aiClxsDWFRQ0Kzk5KI5ku'}, {'album': {'album_type': 'single', 'artists': [{'external_urls': {'spotify': 'https://open.spotify.com/artist/1cNDP5yjU5vjeR8qMf4grg'}, 'href': 'https://api.spotify.com/v1/artists/1cNDP5yjU5vjeR8qMf4grg', 'id': '1cNDP5yjU5vjeR8qMf4grg', 'name': 'YNW Melly', 'type': 'artist', 'uri': 'spotify:artist:1cNDP5yjU5vjeR8qMf4grg'}, {'external_urls': {'spotify': 'https://open.spotify.com/artist/0ceH34CATvfgphxnLRWFkm'}, 'href': 'https://api.spotify.com/v1/artists/0ceH34CATvfgphxnLRWFkm', 'id': '0ceH34CATvfgphxnLRWFkm', 'name': '9lokknine', 'type': 'artist', 'uri': 'spotify:artist:0ceH34CATvfgphxnLRWFkm'}], 'available_markets': ['AD', 'AE', 'AR', 'AT', 'AU', 'BE', 'BG', 'BH', 'BO', 'BR', 'CA', 'CH', 'CL', 'CO', 'CR', 'CY', 'CZ', 'DE', 'DK', 'DO', 'DZ', 'EC', 'EE', 'EG', 'ES', 'FI', 'FR', 'GB', 'GR', 'GT', 'HK', 'HN', 'HU', 'ID', 'IE', 'IL', 'IS', 'IT', 'JO', 'JP', 'KW', 'LB', 'LI', 'LT', 'LU', 'LV', 'MA', 'MC', 'MT', 'MX', 'MY', 'NI', 'NL', 'NO', 'NZ', 'OM', 'PA', 'PE', 'PH', 'PL', 'PS', 'PT', 'PY', 'QA', 'RO', 'SA', 'SE', 'SG', 'SK', 'SV', 'TH', 'TN', 'TR', 'TW', 'US', 'UY', 'VN', 'ZA'], 'external_urls': {'spotify': 'https://open.spotify.com/album/7cekEHNPgpKwVd9kJE9G8F'}, 'href': 'https://api.spotify.com/v1/albums/7cekEHNPgpKwVd9kJE9G8F', 'id': '7cekEHNPgpKwVd9kJE9G8F', 'images': [{'height': 640, 'url': 'https://i.scdn.co/image/ab67616d0000b2734f8e760781e8e0e68662d8e9', 'width': 640}, {'height': 300, 'url': 'https://i.scdn.co/image/ab67616d00001e024f8e760781e8e0e68662d8e9', 'width': 300}, {'height': 64, 'url': 'https://i.scdn.co/image/ab67616d000048514f8e760781e8e0e68662d8e9', 'width': 64}], 'name': \"223's (feat. 9lokknine)\", 'release_date': '2019-08-09', 'release_date_precision': 'day', 'total_tracks': 1, 'type': 'album', 'uri': 'spotify:album:7cekEHNPgpKwVd9kJE9G8F'}, 'artists': [{'external_urls': {'spotify': 'https://open.spotify.com/artist/1cNDP5yjU5vjeR8qMf4grg'}, 'href': 'https://api.spotify.com/v1/artists/1cNDP5yjU5vjeR8qMf4grg', 'id': '1cNDP5yjU5vjeR8qMf4grg', 'name': 'YNW Melly', 'type': 'artist', 'uri': 'spotify:artist:1cNDP5yjU5vjeR8qMf4grg'}, {'external_urls': {'spotify': 'https://open.spotify.com/artist/0ceH34CATvfgphxnLRWFkm'}, 'href': 'https://api.spotify.com/v1/artists/0ceH34CATvfgphxnLRWFkm', 'id': '0ceH34CATvfgphxnLRWFkm', 'name': '9lokknine', 'type': 'artist', 'uri': 'spotify:artist:0ceH34CATvfgphxnLRWFkm'}], 'available_markets': ['AD', 'AE', 'AR', 'AT', 'AU', 'BE', 'BG', 'BH', 'BO', 'BR', 'CA', 'CH', 'CL', 'CO', 'CR', 'CY', 'CZ', 'DE', 'DK', 'DO', 'DZ', 'EC', 'EE', 'EG', 'ES', 'FI', 'FR', 'GB', 'GR', 'GT', 'HK', 'HN', 'HU', 'ID', 'IE', 'IL', 'IS', 'IT', 'JO', 'JP', 'KW', 'LB', 'LI', 'LT', 'LU', 'LV', 'MA', 'MC', 'MT', 'MX', 'MY', 'NI', 'NL', 'NO', 'NZ', 'OM', 'PA', 'PE', 'PH', 'PL', 'PS', 'PT', 'PY', 'QA', 'RO', 'SA', 'SE', 'SG', 'SK', 'SV', 'TH', 'TN', 'TR', 'TW', 'US', 'UY', 'VN', 'ZA'], 'disc_number': 1, 'duration_ms': 176640, 'explicit': True, 'external_ids': {'isrc': 'QMCE31902418'}, 'external_urls': {'spotify': 'https://open.spotify.com/track/4sjiIpEv617LDXaidKioOI'}, 'href': 'https://api.spotify.com/v1/tracks/4sjiIpEv617LDXaidKioOI', 'id': '4sjiIpEv617LDXaidKioOI', 'is_local': False, 'name': \"223's (feat. 9lokknine)\", 'popularity': 92, 'preview_url': 'https://p.scdn.co/mp3-preview/66004e52c8bdda0d39a9aa99bbc549df1a4e15e6?cid=841e0a8ce6a84bab829e9b438660e75f', 'track_number': 1, 'type': 'track', 'uri': 'spotify:track:4sjiIpEv617LDXaidKioOI'}, {'album': {'album_type': 'album', 'artists': [{'external_urls': {'spotify': 'https://open.spotify.com/artist/56oDRnqbIiwx4mymNEv7dS'}, 'href': 'https://api.spotify.com/v1/artists/56oDRnqbIiwx4mymNEv7dS', 'id': '56oDRnqbIiwx4mymNEv7dS', 'name': 'Lizzo', 'type': 'artist', 'uri': 'spotify:artist:56oDRnqbIiwx4mymNEv7dS'}], 'available_markets': ['AD', 'AE', 'AR', 'AT', 'AU', 'BE', 'BG', 'BH', 'BO', 'BR', 'CA', 'CH', 'CL', 'CO', 'CR', 'CY', 'CZ', 'DE', 'DK', 'DO', 'DZ', 'EC', 'EE', 'EG', 'ES', 'FI', 'FR', 'GB', 'GR', 'GT', 'HK', 'HN', 'HU', 'ID', 'IE', 'IL', 'IS', 'IT', 'JO', 'JP', 'KW', 'LB', 'LI', 'LT', 'LU', 'LV', 'MA', 'MC', 'MT', 'MX', 'MY', 'NI', 'NL', 'NO', 'NZ', 'OM', 'PA', 'PE', 'PH', 'PL', 'PS', 'PT', 'PY', 'QA', 'RO', 'SA', 'SE', 'SG', 'SK', 'SV', 'TH', 'TN', 'TR', 'TW', 'US', 'UY', 'VN', 'ZA'], 'external_urls': {'spotify': 'https://open.spotify.com/album/74gSdSHe71q7urGWMMn3qB'}, 'href': 'https://api.spotify.com/v1/albums/74gSdSHe71q7urGWMMn3qB', 'id': '74gSdSHe71q7urGWMMn3qB', 'images': [{'height': 640, 'url': 'https://i.scdn.co/image/ab67616d0000b2734d51081892dbe3f1ddf28914', 'width': 640}, {'height': 300, 'url': 'https://i.scdn.co/image/ab67616d00001e024d51081892dbe3f1ddf28914', 'width': 300}, {'height': 64, 'url': 'https://i.scdn.co/image/ab67616d000048514d51081892dbe3f1ddf28914', 'width': 64}], 'name': 'Cuz I Love You (Deluxe)', 'release_date': '2019-05-03', 'release_date_precision': 'day', 'total_tracks': 14, 'type': 'album', 'uri': 'spotify:album:74gSdSHe71q7urGWMMn3qB'}, 'artists': [{'external_urls': {'spotify': 'https://open.spotify.com/artist/56oDRnqbIiwx4mymNEv7dS'}, 'href': 'https://api.spotify.com/v1/artists/56oDRnqbIiwx4mymNEv7dS', 'id': '56oDRnqbIiwx4mymNEv7dS', 'name': 'Lizzo', 'type': 'artist', 'uri': 'spotify:artist:56oDRnqbIiwx4mymNEv7dS'}], 'available_markets': ['AD', 'AE', 'AR', 'AT', 'AU', 'BE', 'BG', 'BH', 'BO', 'BR', 'CA', 'CH', 'CL', 'CO', 'CR', 'CY', 'CZ', 'DE', 'DK', 'DO', 'DZ', 'EC', 'EE', 'EG', 'ES', 'FI', 'FR', 'GB', 'GR', 'GT', 'HK', 'HN', 'HU', 'ID', 'IE', 'IL', 'IS', 'IT', 'JO', 'JP', 'KW', 'LB', 'LI', 'LT', 'LU', 'LV', 'MA', 'MC', 'MT', 'MX', 'MY', 'NI', 'NL', 'NO', 'NZ', 'OM', 'PA', 'PE', 'PH', 'PL', 'PS', 'PT', 'PY', 'QA', 'RO', 'SA', 'SE', 'SG', 'SK', 'SV', 'TH', 'TN', 'TR', 'TW', 'US', 'UY', 'VN', 'ZA'], 'disc_number': 1, 'duration_ms': 173325, 'explicit': True, 'external_ids': {'isrc': 'USAT21703896'}, 'external_urls': {'spotify': 'https://open.spotify.com/track/5qmq61DAAOUaW8AUo8xKhh'}, 'href': 'https://api.spotify.com/v1/tracks/5qmq61DAAOUaW8AUo8xKhh', 'id': '5qmq61DAAOUaW8AUo8xKhh', 'is_local': False, 'name': 'Truth Hurts', 'popularity': 93, 'preview_url': 'https://p.scdn.co/mp3-preview/c8bdc870ffc6044c84f0d52306a35551fb3d0263?cid=841e0a8ce6a84bab829e9b438660e75f', 'track_number': 13, 'type': 'track', 'uri': 'spotify:track:5qmq61DAAOUaW8AUo8xKhh'}, {'album': {'album_type': 'single', 'artists': [{'external_urls': {'spotify': 'https://open.spotify.com/artist/0C8ZW7ezQVs4URX5aX7Kqx'}, 'href': 'https://api.spotify.com/v1/artists/0C8ZW7ezQVs4URX5aX7Kqx', 'id': '0C8ZW7ezQVs4URX5aX7Kqx', 'name': 'Selena Gomez', 'type': 'artist', 'uri': 'spotify:artist:0C8ZW7ezQVs4URX5aX7Kqx'}], 'available_markets': ['AD', 'AE', 'AR', 'AT', 'AU', 'BE', 'BG', 'BH', 'BO', 'BR', 'CA', 'CH', 'CL', 'CO', 'CR', 'CY', 'CZ', 'DE', 'DK', 'DO', 'DZ', 'EC', 'EE', 'EG', 'ES', 'FI', 'FR', 'GB', 'GR', 'GT', 'HK', 'HN', 'HU', 'ID', 'IE', 'IL', 'IN', 'IS', 'IT', 'JO', 'JP', 'KW', 'LB', 'LI', 'LT', 'LU', 'LV', 'MA', 'MC', 'MT', 'MX', 'MY', 'NI', 'NL', 'NO', 'NZ', 'OM', 'PA', 'PE', 'PH', 'PL', 'PS', 'PT', 'PY', 'QA', 'RO', 'SA', 'SE', 'SG', 'SK', 'SV', 'TH', 'TN', 'TR', 'TW', 'US', 'UY', 'VN', 'ZA'], 'external_urls': {'spotify': 'https://open.spotify.com/album/3tBkjgxDqAwss76O1YHsSY'}, 'href': 'https://api.spotify.com/v1/albums/3tBkjgxDqAwss76O1YHsSY', 'id': '3tBkjgxDqAwss76O1YHsSY', 'images': [{'height': 640, 'url': 'https://i.scdn.co/image/2e68378a5935516a3cc5591a70aa066f0a6d03d8', 'width': 640}, {'height': 300, 'url': 'https://i.scdn.co/image/42dcb033ff320533eac936a0abfc24f0f9404127', 'width': 300}, {'height': 64, 'url': 'https://i.scdn.co/image/d485908b0ed0de2877196e73a2b3a1c46447690f', 'width': 64}], 'name': 'Lose You To Love Me', 'release_date': '2019-10-23', 'release_date_precision': 'day', 'total_tracks': 1, 'type': 'album', 'uri': 'spotify:album:3tBkjgxDqAwss76O1YHsSY'}, 'artists': [{'external_urls': {'spotify': 'https://open.spotify.com/artist/0C8ZW7ezQVs4URX5aX7Kqx'}, 'href': 'https://api.spotify.com/v1/artists/0C8ZW7ezQVs4URX5aX7Kqx', 'id': '0C8ZW7ezQVs4URX5aX7Kqx', 'name': 'Selena Gomez', 'type': 'artist', 'uri': 'spotify:artist:0C8ZW7ezQVs4URX5aX7Kqx'}], 'available_markets': ['AD', 'AE', 'AR', 'AT', 'AU', 'BE', 'BG', 'BH', 'BO', 'BR', 'CA', 'CH', 'CL', 'CO', 'CR', 'CY', 'CZ', 'DE', 'DK', 'DO', 'DZ', 'EC', 'EE', 'EG', 'ES', 'FI', 'FR', 'GB', 'GR', 'GT', 'HK', 'HN', 'HU', 'ID', 'IE', 'IL', 'IN', 'IS', 'IT', 'JO', 'JP', 'KW', 'LB', 'LI', 'LT', 'LU', 'LV', 'MA', 'MC', 'MT', 'MX', 'MY', 'NI', 'NL', 'NO', 'NZ', 'OM', 'PA', 'PE', 'PH', 'PL', 'PS', 'PT', 'PY', 'QA', 'RO', 'SA', 'SE', 'SG', 'SK', 'SV', 'TH', 'TN', 'TR', 'TW', 'US', 'UY', 'VN', 'ZA'], 'disc_number': 1, 'duration_ms': 206458, 'explicit': False, 'external_ids': {'isrc': 'USUM71918727'}, 'external_urls': {'spotify': 'https://open.spotify.com/track/1HfMVBKM75vxSfsQ5VefZ5'}, 'href': 'https://api.spotify.com/v1/tracks/1HfMVBKM75vxSfsQ5VefZ5', 'id': '1HfMVBKM75vxSfsQ5VefZ5', 'is_local': False, 'name': 'Lose You To Love Me', 'popularity': 97, 'preview_url': None, 'track_number': 1, 'type': 'track', 'uri': 'spotify:track:1HfMVBKM75vxSfsQ5VefZ5'}, {'album': {'album_type': 'album', 'artists': [{'external_urls': {'spotify': 'https://open.spotify.com/artist/4GNC7GD6oZMSxPGyXy4MNB'}, 'href': 'https://api.spotify.com/v1/artists/4GNC7GD6oZMSxPGyXy4MNB', 'id': '4GNC7GD6oZMSxPGyXy4MNB', 'name': 'Lewis Capaldi', 'type': 'artist', 'uri': 'spotify:artist:4GNC7GD6oZMSxPGyXy4MNB'}], 'available_markets': ['AD', 'AE', 'AR', 'AT', 'AU', 'BE', 'BG', 'BH', 'BO', 'BR', 'CA', 'CH', 'CL', 'CO', 'CR', 'CY', 'CZ', 'DE', 'DK', 'DO', 'DZ', 'EC', 'EE', 'EG', 'ES', 'FI', 'FR', 'GB', 'GR', 'GT', 'HK', 'HN', 'HU', 'ID', 'IE', 'IL', 'IN', 'IS', 'IT', 'JO', 'JP', 'KW', 'LB', 'LI', 'LT', 'LU', 'LV', 'MA', 'MC', 'MT', 'MX', 'MY', 'NI', 'NL', 'NO', 'NZ', 'OM', 'PA', 'PE', 'PH', 'PL', 'PS', 'PT', 'PY', 'QA', 'RO', 'SA', 'SE', 'SG', 'SK', 'SV', 'TH', 'TN', 'TR', 'TW', 'US', 'UY', 'VN', 'ZA'], 'external_urls': {'spotify': 'https://open.spotify.com/album/5658aM19fA3JVwTK6eQX70'}, 'href': 'https://api.spotify.com/v1/albums/5658aM19fA3JVwTK6eQX70', 'id': '5658aM19fA3JVwTK6eQX70', 'images': [{'height': 640, 'url': 'https://i.scdn.co/image/f7a77846ac8a88f49145850d88fdd6bf33944773', 'width': 640}, {'height': 300, 'url': 'https://i.scdn.co/image/92fe4b441d5b3353dfa59a75f1ad1770b7ba2593', 'width': 300}, {'height': 64, 'url': 'https://i.scdn.co/image/d2a8a81991aa1c638f7fdaa8a27937b346fad771', 'width': 64}], 'name': 'Divinely Uninspired To A Hellish Extent', 'release_date': '2019-05-17', 'release_date_precision': 'day', 'total_tracks': 12, 'type': 'album', 'uri': 'spotify:album:5658aM19fA3JVwTK6eQX70'}, 'artists': [{'external_urls': {'spotify': 'https://open.spotify.com/artist/4GNC7GD6oZMSxPGyXy4MNB'}, 'href': 'https://api.spotify.com/v1/artists/4GNC7GD6oZMSxPGyXy4MNB', 'id': '4GNC7GD6oZMSxPGyXy4MNB', 'name': 'Lewis Capaldi', 'type': 'artist', 'uri': 'spotify:artist:4GNC7GD6oZMSxPGyXy4MNB'}], 'available_markets': ['AD', 'AE', 'AR', 'AT', 'AU', 'BE', 'BG', 'BH', 'BO', 'BR', 'CA', 'CH', 'CL', 'CO', 'CR', 'CY', 'CZ', 'DE', 'DK', 'DO', 'DZ', 'EC', 'EE', 'EG', 'ES', 'FI', 'FR', 'GB', 'GR', 'GT', 'HK', 'HN', 'HU', 'ID', 'IE', 'IL', 'IN', 'IS', 'IT', 'JO', 'JP', 'KW', 'LB', 'LI', 'LT', 'LU', 'LV', 'MA', 'MC', 'MT', 'MX', 'MY', 'NI', 'NL', 'NO', 'NZ', 'OM', 'PA', 'PE', 'PH', 'PL', 'PS', 'PT', 'PY', 'QA', 'RO', 'SA', 'SE', 'SG', 'SK', 'SV', 'TH', 'TN', 'TR', 'TW', 'US', 'UY', 'VN', 'ZA'], 'disc_number': 1, 'duration_ms': 182160, 'explicit': False, 'external_ids': {'isrc': 'DEUM71807062'}, 'external_urls': {'spotify': 'https://open.spotify.com/track/7qEHsqek33rTcFNT9PFqLf'}, 'href': 'https://api.spotify.com/v1/tracks/7qEHsqek33rTcFNT9PFqLf', 'id': '7qEHsqek33rTcFNT9PFqLf', 'is_local': False, 'name': 'Someone You Loved', 'popularity': 96, 'preview_url': None, 'track_number': 4, 'type': 'track', 'uri': 'spotify:track:7qEHsqek33rTcFNT9PFqLf'}, {'album': {'album_type': 'album', 'artists': [{'external_urls': {'spotify': 'https://open.spotify.com/artist/50co4Is1HCEo8bhOyUWKpn'}, 'href': 'https://api.spotify.com/v1/artists/50co4Is1HCEo8bhOyUWKpn', 'id': '50co4Is1HCEo8bhOyUWKpn', 'name': 'Young Thug', 'type': 'artist', 'uri': 'spotify:artist:50co4Is1HCEo8bhOyUWKpn'}], 'available_markets': ['AD', 'AE', 'AR', 'AT', 'AU', 'BE', 'BG', 'BH', 'BO', 'BR', 'CA', 'CH', 'CL', 'CO', 'CR', 'CY', 'CZ', 'DE', 'DK', 'DO', 'DZ', 'EC', 'EE', 'EG', 'ES', 'FI', 'FR', 'GB', 'GR', 'GT', 'HK', 'HN', 'HU', 'ID', 'IE', 'IL', 'IS', 'IT', 'JO', 'JP', 'KW', 'LB', 'LI', 'LT', 'LU', 'LV', 'MA', 'MC', 'MT', 'MX', 'MY', 'NI', 'NL', 'NO', 'NZ', 'OM', 'PA', 'PE', 'PH', 'PL', 'PS', 'PT', 'PY', 'QA', 'RO', 'SA', 'SE', 'SG', 'SK', 'SV', 'TH', 'TN', 'TR', 'TW', 'US', 'UY', 'VN', 'ZA'], 'external_urls': {'spotify': 'https://open.spotify.com/album/1bnHPO4dKK7IjvgrtVBcQh'}, 'href': 'https://api.spotify.com/v1/albums/1bnHPO4dKK7IjvgrtVBcQh', 'id': '1bnHPO4dKK7IjvgrtVBcQh', 'images': [{'height': 640, 'url': 'https://i.scdn.co/image/ab67616d0000b2736fcd1b6e205d0d19d9efa0cc', 'width': 640}, {'height': 300, 'url': 'https://i.scdn.co/image/ab67616d00001e026fcd1b6e205d0d19d9efa0cc', 'width': 300}, {'height': 64, 'url': 'https://i.scdn.co/image/ab67616d000048516fcd1b6e205d0d19d9efa0cc', 'width': 64}], 'name': 'So Much Fun', 'release_date': '2019-08-16', 'release_date_precision': 'day', 'total_tracks': 19, 'type': 'album', 'uri': 'spotify:album:1bnHPO4dKK7IjvgrtVBcQh'}, 'artists': [{'external_urls': {'spotify': 'https://open.spotify.com/artist/50co4Is1HCEo8bhOyUWKpn'}, 'href': 'https://api.spotify.com/v1/artists/50co4Is1HCEo8bhOyUWKpn', 'id': '50co4Is1HCEo8bhOyUWKpn', 'name': 'Young Thug', 'type': 'artist', 'uri': 'spotify:artist:50co4Is1HCEo8bhOyUWKpn'}, {'external_urls': {'spotify': 'https://open.spotify.com/artist/2hlmm7s2ICUX0LVIhVFlZQ'}, 'href': 'https://api.spotify.com/v1/artists/2hlmm7s2ICUX0LVIhVFlZQ', 'id': '2hlmm7s2ICUX0LVIhVFlZQ', 'name': 'Gunna', 'type': 'artist', 'uri': 'spotify:artist:2hlmm7s2ICUX0LVIhVFlZQ'}], 'available_markets': ['AD', 'AE', 'AR', 'AT', 'AU', 'BE', 'BG', 'BH', 'BO', 'BR', 'CA', 'CH', 'CL', 'CO', 'CR', 'CY', 'CZ', 'DE', 'DK', 'DO', 'DZ', 'EC', 'EE', 'EG', 'ES', 'FI', 'FR', 'GB', 'GR', 'GT', 'HK', 'HN', 'HU', 'ID', 'IE', 'IL', 'IS', 'IT', 'JO', 'JP', 'KW', 'LB', 'LI', 'LT', 'LU', 'LV', 'MA', 'MC', 'MT', 'MX', 'MY', 'NI', 'NL', 'NO', 'NZ', 'OM', 'PA', 'PE', 'PH', 'PL', 'PS', 'PT', 'PY', 'QA', 'RO', 'SA', 'SE', 'SG', 'SK', 'SV', 'TH', 'TN', 'TR', 'TW', 'US', 'UY', 'VN', 'ZA'], 'disc_number': 1, 'duration_ms': 193026, 'explicit': True, 'external_ids': {'isrc': 'USAT21904711'}, 'external_urls': {'spotify': 'https://open.spotify.com/track/5Z8HZM6iQMhhqyPcCGY5g9'}, 'href': 'https://api.spotify.com/v1/tracks/5Z8HZM6iQMhhqyPcCGY5g9', 'id': '5Z8HZM6iQMhhqyPcCGY5g9', 'is_local': False, 'name': 'Hot (feat. Gunna)', 'popularity': 91, 'preview_url': 'https://p.scdn.co/mp3-preview/ae942ea0edeae519e31555386d89b49e5242a62d?cid=841e0a8ce6a84bab829e9b438660e75f', 'track_number': 4, 'type': 'track', 'uri': 'spotify:track:5Z8HZM6iQMhhqyPcCGY5g9'}, {'album': {'album_type': 'single', 'artists': [{'external_urls': {'spotify': 'https://open.spotify.com/artist/7z5WFjZAIYejWy0NI5lv4T'}, 'href': 'https://api.spotify.com/v1/artists/7z5WFjZAIYejWy0NI5lv4T', 'id': '7z5WFjZAIYejWy0NI5lv4T', 'name': 'Dan + Shay', 'type': 'artist', 'uri': 'spotify:artist:7z5WFjZAIYejWy0NI5lv4T'}, {'external_urls': {'spotify': 'https://open.spotify.com/artist/1uNFoZAHBGtllmzznpCI3s'}, 'href': 'https://api.spotify.com/v1/artists/1uNFoZAHBGtllmzznpCI3s', 'id': '1uNFoZAHBGtllmzznpCI3s', 'name': 'Justin Bieber', 'type': 'artist', 'uri': 'spotify:artist:1uNFoZAHBGtllmzznpCI3s'}], 'available_markets': ['AD', 'AE', 'AR', 'AT', 'AU', 'BE', 'BG', 'BH', 'BO', 'BR', 'CA', 'CH', 'CL', 'CO', 'CR', 'CY', 'CZ', 'DE', 'DK', 'DO', 'DZ', 'EC', 'EE', 'EG', 'ES', 'FI', 'FR', 'GB', 'GR', 'GT', 'HK', 'HN', 'HU', 'ID', 'IE', 'IL', 'IS', 'IT', 'JO', 'JP', 'KW', 'LB', 'LI', 'LT', 'LU', 'LV', 'MA', 'MC', 'MT', 'MX', 'MY', 'NI', 'NL', 'NO', 'NZ', 'OM', 'PA', 'PE', 'PH', 'PL', 'PS', 'PT', 'PY', 'QA', 'RO', 'SA', 'SE', 'SG', 'SK', 'SV', 'TH', 'TN', 'TR', 'TW', 'US', 'UY', 'VN', 'ZA'], 'external_urls': {'spotify': 'https://open.spotify.com/album/4ow6xJwn49gpWz7iHpOzWY'}, 'href': 'https://api.spotify.com/v1/albums/4ow6xJwn49gpWz7iHpOzWY', 'id': '4ow6xJwn49gpWz7iHpOzWY', 'images': [{'height': 640, 'url': 'https://i.scdn.co/image/e75dc5971f220aa8be03323d9162a555cf9012d7', 'width': 640}, {'height': 300, 'url': 'https://i.scdn.co/image/1752c55854569b28877cf91e12c230948102b466', 'width': 300}, {'height': 64, 'url': 'https://i.scdn.co/image/80e562ef5d7b69e306ad7be6923f83905293ccac', 'width': 64}], 'name': '10,000 Hours (with Justin Bieber)', 'release_date': '2019-10-04', 'release_date_precision': 'day', 'total_tracks': 1, 'type': 'album', 'uri': 'spotify:album:4ow6xJwn49gpWz7iHpOzWY'}, 'artists': [{'external_urls': {'spotify': 'https://open.spotify.com/artist/7z5WFjZAIYejWy0NI5lv4T'}, 'href': 'https://api.spotify.com/v1/artists/7z5WFjZAIYejWy0NI5lv4T', 'id': '7z5WFjZAIYejWy0NI5lv4T', 'name': 'Dan + Shay', 'type': 'artist', 'uri': 'spotify:artist:7z5WFjZAIYejWy0NI5lv4T'}, {'external_urls': {'spotify': 'https://open.spotify.com/artist/1uNFoZAHBGtllmzznpCI3s'}, 'href': 'https://api.spotify.com/v1/artists/1uNFoZAHBGtllmzznpCI3s', 'id': '1uNFoZAHBGtllmzznpCI3s', 'name': 'Justin Bieber', 'type': 'artist', 'uri': 'spotify:artist:1uNFoZAHBGtllmzznpCI3s'}], 'available_markets': ['AD', 'AE', 'AR', 'AT', 'AU', 'BE', 'BG', 'BH', 'BO', 'BR', 'CA', 'CH', 'CL', 'CO', 'CR', 'CY', 'CZ', 'DE', 'DK', 'DO', 'DZ', 'EC', 'EE', 'EG', 'ES', 'FI', 'FR', 'GB', 'GR', 'GT', 'HK', 'HN', 'HU', 'ID', 'IE', 'IL', 'IS', 'IT', 'JO', 'JP', 'KW', 'LB', 'LI', 'LT', 'LU', 'LV', 'MA', 'MC', 'MT', 'MX', 'MY', 'NI', 'NL', 'NO', 'NZ', 'OM', 'PA', 'PE', 'PH', 'PL', 'PS', 'PT', 'PY', 'QA', 'RO', 'SA', 'SE', 'SG', 'SK', 'SV', 'TH', 'TN', 'TR', 'TW', 'US', 'UY', 'VN', 'ZA'], 'disc_number': 1, 'duration_ms': 167693, 'explicit': False, 'external_ids': {'isrc': 'USWB11902440'}, 'external_urls': {'spotify': 'https://open.spotify.com/track/2wrJq5XKLnmhRXHIAf9xBa'}, 'href': 'https://api.spotify.com/v1/tracks/2wrJq5XKLnmhRXHIAf9xBa', 'id': '2wrJq5XKLnmhRXHIAf9xBa', 'is_local': False, 'name': '10,000 Hours (with Justin Bieber)', 'popularity': 96, 'preview_url': 'https://p.scdn.co/mp3-preview/a3e97b632968fe644ea13d758629e50b26d12c3d?cid=841e0a8ce6a84bab829e9b438660e75f', 'track_number': 1, 'type': 'track', 'uri': 'spotify:track:2wrJq5XKLnmhRXHIAf9xBa'}], 'limit': 10, 'next': 'https://api.spotify.com/v1/search?query=year%3A2019&type=track&offset=10&limit=10', 'offset': 0, 'previous': None, 'total': 100000}}\n"
     ]
    }
   ],
   "source": [
    "output = sp.search(q='year:2019', type='track')\n",
    "print(output)"
   ]
  },
  {
   "cell_type": "markdown",
   "metadata": {},
   "source": [
    "Creating empty list and getting the artist name, track name, popularity parameter and the track id of 10000 tracks from the results shown above."
   ]
  },
  {
   "cell_type": "code",
   "execution_count": 10,
   "metadata": {},
   "outputs": [],
   "source": [
    "artist_name = []\n",
    "track_name = []\n",
    "popularity = []\n",
    "track_id = []\n",
    "\n",
    "for i in range(0,10000,50):\n",
    "    track_results = sp.search(q='year:2019', type='track', limit=50,offset=i)\n",
    "    for i, t in enumerate(track_results['tracks']['items']):\n",
    "        artist_name.append(t['artists'][0]['name'])\n",
    "        track_name.append(t['name'])\n",
    "        track_id.append(t['id'])\n",
    "        popularity.append(t['popularity'])"
   ]
  },
  {
   "cell_type": "code",
   "execution_count": 11,
   "metadata": {},
   "outputs": [
    {
     "name": "stdout",
     "output_type": "stream",
     "text": [
      "Number of tracks exracted: 10000\n"
     ]
    }
   ],
   "source": [
    "print(\"Number of tracks exracted: \" + str(len(track_id)))"
   ]
  },
  {
   "cell_type": "markdown",
   "metadata": {},
   "source": [
    "### Cleaning Code"
   ]
  },
  {
   "cell_type": "markdown",
   "metadata": {},
   "source": [
    "![alt text](https://tenor.com/view/sponge-bob-cleaning-cats-household-chores-gif-4998775.gif \"Logo Title Text 1\")\n"
   ]
  },
  {
   "cell_type": "markdown",
   "metadata": {},
   "source": [
    "Appending lists and converting them into a single dataframe."
   ]
  },
  {
   "cell_type": "code",
   "execution_count": 13,
   "metadata": {},
   "outputs": [
    {
     "name": "stdout",
     "output_type": "stream",
     "text": [
      "(10000, 4)\n"
     ]
    },
    {
     "data": {
      "text/html": [
       "<div>\n",
       "<style scoped>\n",
       "    .dataframe tbody tr th:only-of-type {\n",
       "        vertical-align: middle;\n",
       "    }\n",
       "\n",
       "    .dataframe tbody tr th {\n",
       "        vertical-align: top;\n",
       "    }\n",
       "\n",
       "    .dataframe thead th {\n",
       "        text-align: right;\n",
       "    }\n",
       "</style>\n",
       "<table border=\"1\" class=\"dataframe\">\n",
       "  <thead>\n",
       "    <tr style=\"text-align: right;\">\n",
       "      <th></th>\n",
       "      <th>artist_name</th>\n",
       "      <th>track_name</th>\n",
       "      <th>track_id</th>\n",
       "      <th>popularity</th>\n",
       "    </tr>\n",
       "  </thead>\n",
       "  <tbody>\n",
       "    <tr>\n",
       "      <th>0</th>\n",
       "      <td>Travis Scott</td>\n",
       "      <td>HIGHEST IN THE ROOM</td>\n",
       "      <td>3eekarcy7kvN4yt5ZFzltW</td>\n",
       "      <td>99</td>\n",
       "    </tr>\n",
       "    <tr>\n",
       "      <th>1</th>\n",
       "      <td>Post Malone</td>\n",
       "      <td>Circles</td>\n",
       "      <td>21jGcNKet2qwijlDFuPiPb</td>\n",
       "      <td>100</td>\n",
       "    </tr>\n",
       "    <tr>\n",
       "      <th>2</th>\n",
       "      <td>Juice WRLD</td>\n",
       "      <td>Bandit (with YoungBoy Never Broke Again)</td>\n",
       "      <td>6Gg1gjgKi2AK4e0qzsR7sd</td>\n",
       "      <td>94</td>\n",
       "    </tr>\n",
       "    <tr>\n",
       "      <th>3</th>\n",
       "      <td>blackbear</td>\n",
       "      <td>hot girl bummer</td>\n",
       "      <td>7aiClxsDWFRQ0Kzk5KI5ku</td>\n",
       "      <td>96</td>\n",
       "    </tr>\n",
       "    <tr>\n",
       "      <th>4</th>\n",
       "      <td>YNW Melly</td>\n",
       "      <td>223's (feat. 9lokknine)</td>\n",
       "      <td>4sjiIpEv617LDXaidKioOI</td>\n",
       "      <td>92</td>\n",
       "    </tr>\n",
       "  </tbody>\n",
       "</table>\n",
       "</div>"
      ],
      "text/plain": [
       "    artist_name                                track_name  \\\n",
       "0  Travis Scott                       HIGHEST IN THE ROOM   \n",
       "1   Post Malone                                   Circles   \n",
       "2    Juice WRLD  Bandit (with YoungBoy Never Broke Again)   \n",
       "3     blackbear                           hot girl bummer   \n",
       "4     YNW Melly                   223's (feat. 9lokknine)   \n",
       "\n",
       "                 track_id  popularity  \n",
       "0  3eekarcy7kvN4yt5ZFzltW          99  \n",
       "1  21jGcNKet2qwijlDFuPiPb         100  \n",
       "2  6Gg1gjgKi2AK4e0qzsR7sd          94  \n",
       "3  7aiClxsDWFRQ0Kzk5KI5ku          96  \n",
       "4  4sjiIpEv617LDXaidKioOI          92  "
      ]
     },
     "execution_count": 13,
     "metadata": {},
     "output_type": "execute_result"
    }
   ],
   "source": [
    "import pandas as pd\n",
    "\n",
    "tracks_df = pd.DataFrame({'artist_name':artist_name,'track_name':track_name,'track_id':track_id,'popularity':popularity})\n",
    "print(tracks_df.shape)\n",
    "tracks_df.head()"
   ]
  },
  {
   "cell_type": "markdown",
   "metadata": {},
   "source": [
    "Many a times, a single track has more than one entry in the dataset. This is due to the track having different track_id as they might have appeared as a single as well as in the album. It might also be due to the track appearing under the profile of two artists who might have collaborated on the track.\n",
    "\n",
    "I check for these duplicate values by grouping them by artist names and track names and then checking "
   ]
  },
  {
   "cell_type": "code",
   "execution_count": 23,
   "metadata": {},
   "outputs": [
    {
     "name": "stdout",
     "output_type": "stream",
     "text": [
      "Tracks grouped by artist name and track name:\n",
      "======================\n",
      "artist_name  track_name                                                  \n",
      "$NOT         Beretta (feat. Wifisfuneral)                                    1\n",
      "             Billy Boy                                                       1\n",
      "             Megan                                                           1\n",
      "             Vision (feat. Lil Tracy)                                        1\n",
      "$uicideBoy$  Aliens Are Ghosts ($UICIDEBOY$ X TRAVIS BARKER)                 2\n",
      "             DON'T TRUST ANYONE! ($UICIDEBOY$ X TRAVIS BARKER)               1\n",
      "             Individuality Was So Last Year ($UICIDEBOY$ X TRAVIS BARKER)    1\n",
      "             Killing 2 Birds With 22 Stones ($UICIDEBOY$ X TRAVIS BARKER)    1\n",
      "             Sour Grapes ($UICIDEBOY$ X TRAVIS BARKER)                       1\n",
      "(G)I-DLE     Senorita                                                        1\n",
      "dtype: int64\n",
      "======================\n",
      "All the tracks with duplicate values:\n",
      "======================\n",
      "artist_name          track_name                                     \n",
      "$uicideBoy$          Aliens Are Ghosts ($UICIDEBOY$ X TRAVIS BARKER)    2\n",
      "5 Seconds of Summer  Teeth                                              2\n",
      "83 Babies            No Cap (feat. Rich The Kid)                        3\n",
      "88rising             Breathe                                            2\n",
      "                     Indigo                                             2\n",
      "                     These Nights                                       2\n",
      "A$AP Ferg            Floor Seats                                        2\n",
      "                     WAM                                                2\n",
      "AJR                  100 Bad Days                                       2\n",
      "Alessia Cara         OKAY OKAY                                          2\n",
      "dtype: int64\n"
     ]
    }
   ],
   "source": [
    "grouped = tracks_df.groupby(['artist_name','track_name'], as_index=True).size()\n",
    "print(\"Tracks grouped by artist name and track name:\")\n",
    "print(\"======================\")\n",
    "print(grouped.head(10))\n",
    "print(\"======================\")\n",
    "print(\"All the tracks with duplicate values:\")\n",
    "print(\"======================\")\n",
    "print(grouped[grouped > 1].head(10))"
   ]
  },
  {
   "cell_type": "code",
   "execution_count": 24,
   "metadata": {},
   "outputs": [
    {
     "name": "stdout",
     "output_type": "stream",
     "text": [
      "Number of duplicate values: 485\n"
     ]
    }
   ],
   "source": [
    "print(\"Number of duplicate values: \" + str(grouped[grouped > 1].count()))"
   ]
  },
  {
   "cell_type": "markdown",
   "metadata": {},
   "source": [
    "Hence there are 485 duplicate values. In the below code we delete these duplicate values."
   ]
  },
  {
   "cell_type": "code",
   "execution_count": 27,
   "metadata": {},
   "outputs": [
    {
     "name": "stdout",
     "output_type": "stream",
     "text": [
      "Number of tracks left in the dataframe: 9480\n"
     ]
    }
   ],
   "source": [
    "tracks_df.drop_duplicates(subset=['artist_name','track_name'], inplace=True)\n",
    "print(\"Number of tracks left in the dataframe: \" + str(len(tracks_df)))"
   ]
  },
  {
   "cell_type": "markdown",
   "metadata": {},
   "source": [
    "## In the further parts of the project, I will extract the necessary features, segment it as needed and then further go on to analyze it. "
   ]
  },
  {
   "cell_type": "markdown",
   "metadata": {},
   "source": [
    "# Stay Tuned!"
   ]
  },
  {
   "cell_type": "markdown",
   "metadata": {},
   "source": [
    "![alt text](https://tenor.com/view/thanks-thank-you-dwight-happy-tears-of-joy-gif-3553882.gif \"Logo Title Text 1\")\n"
   ]
  }
 ],
 "metadata": {
  "kernelspec": {
   "display_name": "Python 3",
   "language": "python",
   "name": "python3"
  },
  "language_info": {
   "codemirror_mode": {
    "name": "ipython",
    "version": 3
   },
   "file_extension": ".py",
   "mimetype": "text/x-python",
   "name": "python",
   "nbconvert_exporter": "python",
   "pygments_lexer": "ipython3",
   "version": "3.7.3"
  },
  "widgets": {
   "application/vnd.jupyter.widget-state+json": {
    "state": {},
    "version_major": 2,
    "version_minor": 0
   }
  }
 },
 "nbformat": 4,
 "nbformat_minor": 2
}
